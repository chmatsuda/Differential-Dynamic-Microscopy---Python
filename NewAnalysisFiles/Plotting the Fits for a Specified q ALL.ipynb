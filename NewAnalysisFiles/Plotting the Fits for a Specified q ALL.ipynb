{
 "cells": [
  {
   "cell_type": "markdown",
   "metadata": {},
   "source": [
    "Imports"
   ]
  },
  {
   "cell_type": "code",
   "execution_count": 1,
   "metadata": {},
   "outputs": [
    {
     "name": "stderr",
     "output_type": "stream",
     "text": [
      "C:\\Users\\Student\\Anaconda2\\lib\\site-packages\\IPython\\html.py:14: ShimWarning: The `IPython.html` package has been deprecated since IPython 4.0. You should import from `notebook` instead. `IPython.html.widgets` has moved to `ipywidgets`.\n",
      "  \"`IPython.html.widgets` has moved to `ipywidgets`.\", ShimWarning)\n",
      "../.\\tiff_file.py:1995: UserWarning: failed to import _tifffile.decodepackbits\n",
      "  warnings.warn(\"failed to import %s\" % module_function)\n",
      "../.\\tiff_file.py:1995: UserWarning: failed to import _tifffile.decodelzw\n",
      "  warnings.warn(\"failed to import %s\" % module_function)\n",
      "../.\\tiff_file.py:1995: UserWarning: failed to import _tifffile.unpackints\n",
      "  warnings.warn(\"failed to import %s\" % module_function)\n"
     ]
    }
   ],
   "source": [
    "#Import all of the necessary packages\n",
    "import numpy as np\n",
    "import matplotlib\n",
    "import matplotlib.pyplot as plt\n",
    "from IPython.html.widgets import interact, fixed\n",
    "import ipywidgets as widgets\n",
    "import io\n",
    "\n",
    "font_plt = {'family': 'serif',\n",
    "            'color':  'darkred',\n",
    "            'weight': 'normal',\n",
    "            'size': 10,\n",
    "            }\n",
    "font_plt_ax = {'family': 'serif',\n",
    "               'color':  'black',\n",
    "               'weight': 'normal',\n",
    "               \n",
    "               'size': 10,\n",
    "              }\n",
    "import sys\n",
    "sys.path.append(\"../.\")\n",
    "import glob #glob is helpful for searching for filenames or directories\n",
    "import ddm_clean as ddm #this is the module containing the differential dynamic microscopy code\n",
    "import scipy #scientific python\n",
    "from scipy.signal import blackmanharris as bh #for Blackman-Harris windowing\n",
    "import pickle #for saving data\n",
    "from scipy.special import gamma\n",
    "import mpld3"
   ]
  },
  {
   "cell_type": "markdown",
   "metadata": {},
   "source": [
    "Pick Which Videos and ROIs You Want"
   ]
  },
  {
   "cell_type": "code",
   "execution_count": 2,
   "metadata": {},
   "outputs": [],
   "source": [
    "##Dilute\n",
    "data_dir1 = \"Z:\\\\ChristelleSummer2018\\\\Data\\\\BeadsInConditions\\\\Dilute\\\\2018_07_09\\\\9.5\\\\2018_07_09Dilute9.5fps_3\\\\\"\n",
    "datafile1 =\"AllResults.p\"\n",
    "\n",
    "frame_rate1 = 9.5\n",
    "f = open(data_dir1+datafile1,'rb')\n",
    "AllResults1 = pickle.load(f)\n",
    "f.close()\n",
    "\n",
    "##Tub\n",
    "\n",
    "data_dir2 = \"Z:\\\\ChristelleSummer2018\\\\Data\\\\BeadsInConditions\\\\Tubulin\\\\2018_07_17\\\\40\\\\tub40fps_1\\\\\"\n",
    "datafile2 =\"AllResultsTub40fps_1.p\"\n",
    "\n",
    "frame_rate2 = 40.0\n",
    "g = open(data_dir2+datafile2,'rb')\n",
    "AllResults2 = pickle.load(g)\n",
    "g.close()\n",
    "\n",
    "##Actin\n",
    "\n",
    "data_dir3 = \"Z:\\\\ChristelleSummer2018\\\\Data\\\\BeadsInConditions\\\\Actin\\\\2018_07_17\\\\40\\\\Actin40fps_3\\\\\"\n",
    "datafile3 =\"AllResultsActin40fps717_3.p\"\n",
    "\n",
    "frame_rate3 = 40.0\n",
    "h = open(data_dir3+datafile3,'rb')\n",
    "AllResults3 = pickle.load(h)\n",
    "h.close()\n",
    "\n",
    "##Copoly\n",
    "data_dir4 = \"Z:\\\\ChristelleSummer2018\\\\Data\\\\BeadsInConditions\\\\Copolymerized\\\\2018_07_17\\\\40\\\\copoly40fps_1\\\\\"\n",
    "datafile4=\"AllResultsCopoly40fps_1.p\"\n",
    "\n",
    "frame_rate4 = 40.0\n",
    "i = open(data_dir4+datafile4,'rb')\n",
    "AllResults4 = pickle.load(i)\n",
    "i.close()\n",
    "\n"
   ]
  },
  {
   "cell_type": "markdown",
   "metadata": {},
   "source": [
    "Saving all at once"
   ]
  },
  {
   "cell_type": "code",
   "execution_count": 3,
   "metadata": {},
   "outputs": [],
   "source": [
    "Sample1={}\n",
    "Sample2 ={}\n",
    "Sample3 ={}\n",
    "Sample4 ={}\n"
   ]
  },
  {
   "cell_type": "code",
   "execution_count": null,
   "metadata": {},
   "outputs": [],
   "source": []
  },
  {
   "cell_type": "code",
   "execution_count": 4,
   "metadata": {},
   "outputs": [],
   "source": [
    "##DILUTE\n",
    "ROIs = ['0','128','256','512','640']\n",
    "for i in range(len(ROIs)):\n",
    "    ROIindex = i\n",
    "    ROI = ROIs[ROIindex]\n",
    "    \n",
    "    fitparamsA = AllResults1['fitparams'+str(ROI)]\n",
    "    theoryA = AllResults1['theory'+str(ROI)]\n",
    "    chiA = AllResults1['chi2'+str(ROI)]\n",
    "    \n",
    "    ddmdatafile1 = '2018_07_09Dilute9.5fps_3_MMStack_Pos0.ome_'+str(ROI)+'_128x128_FFTDIFFS_dts_ravs.p'\n",
    "    \n",
    "    g = open(data_dir1+ddmdatafile1,'rb')\n",
    "    dat = pickle.load(g)\n",
    "    g.close()\n",
    "\n",
    "    # dat = pickle.load(open(DDMdata_dir1+ddmdatafile,'r'))\n",
    "    Sample1['dts'+ROIs[i]]  = dat['dts']\n",
    "    Sample1['ravs'+ROIs[i]] = dat['ravs']\n",
    "    Sample1['ffts'+ROIs[i]] = dat['ffts']\n",
    "    Sample1['times'+ROIs[i]]= dat['dts']/frame_rate1\n",
    "    \n",
    "    \n",
    "    "
   ]
  },
  {
   "cell_type": "code",
   "execution_count": 5,
   "metadata": {},
   "outputs": [],
   "source": [
    "##Tubulin\n",
    "\n",
    "ROIs = ['0','256','512']\n",
    "for i in range(len(ROIs)):\n",
    "    ROIindex = i\n",
    "    ROI = ROIs[ROIindex]\n",
    "    \n",
    "    fitparamsB = AllResults2['fitparams'+str(ROI)]\n",
    "    theoryB = AllResults2['theory'+str(ROI)]\n",
    "    chiB = AllResults2['chi2'+str(ROI)]\n",
    "    \n",
    "    ddmdatafile2 = 'tub40fps_1_MMStack_Pos0.ome_'+str(ROI)+'_256x256_FFTDIFFS_dts_ravs.p'\n",
    "    \n",
    "    g = open(data_dir2+ddmdatafile2,'rb')\n",
    "    dat = pickle.load(g)\n",
    "    g.close()\n",
    "\n",
    "    # dat = pickle.load(open(DDMdata_dir1+ddmdatafile,'r'))\n",
    "    Sample2['dts'+ROIs[i]]  = dat['dts']\n",
    "    Sample2['ravs'+ROIs[i]] = dat['ravs']\n",
    "    Sample2['ffts'+ROIs[i]] = dat['ffts']\n",
    "    Sample2['times'+ROIs[i]]= dat['dts']/frame_rate2\n",
    "    \n",
    "    \n",
    "    "
   ]
  },
  {
   "cell_type": "code",
   "execution_count": 6,
   "metadata": {},
   "outputs": [],
   "source": [
    "##Actin\n",
    "ROIs = ['0','128','256','384','512','640']\n",
    "for i in range(len(ROIs)):\n",
    "    ROIindex = i\n",
    "    ROI = ROIs[ROIindex]\n",
    "    \n",
    "    fitparamsC = AllResults3['fitparams'+str(ROI)]\n",
    "    theoryC = AllResults3['theory'+str(ROI)]\n",
    "    chiC = AllResults3['chi2'+str(ROI)]\n",
    "    \n",
    "    ddmdatafile3 = 'Actin40fps_3_MMStack_Pos0.ome_'+str(ROI)+'_128x128_FFTDIFFS_dts_ravs.p'\n",
    "    \n",
    "    g = open(data_dir3+ddmdatafile3,'rb')\n",
    "    dat = pickle.load(g)\n",
    "    g.close()\n",
    "\n",
    "    # dat = pickle.load(open(DDMdata_dir1+ddmdatafile,'r'))\n",
    "    Sample3['dts'+ROIs[i]]  = dat['dts']\n",
    "    Sample3['ravs'+ROIs[i]] = dat['ravs']\n",
    "    Sample3['ffts'+ROIs[i]] = dat['ffts']\n",
    "    Sample3['times'+ROIs[i]]= dat['dts']/frame_rate3\n",
    "    "
   ]
  },
  {
   "cell_type": "code",
   "execution_count": 7,
   "metadata": {},
   "outputs": [],
   "source": [
    "##Copoly\n",
    "ROIs = ['0','256','512']\n",
    "for i in range(len(ROIs)):\n",
    "    ROIindex = i\n",
    "    ROI = ROIs[ROIindex]\n",
    "\n",
    "    fitparamsD = AllResults4['fitparams'+str(ROI)]\n",
    "    theoryD = AllResults4['theory'+str(ROI)]\n",
    "    chiD = AllResults4['chi2'+str(ROI)]\n",
    "    \n",
    "    ddmdatafile4 = 'copoly40fps_1_MMStack_Pos0.ome_'+str(ROI)+'_256x256_FFTDIFFS_dts_ravs.p'\n",
    "    \n",
    "    h = open(data_dir4+ddmdatafile4,'rb')\n",
    "    dat = pickle.load(h)\n",
    "    h.close()\n",
    "\n",
    "    # dat = pickle.load(open(DDMdata_dir1+ddmdatafile,'r'))\n",
    "    Sample4['dts'+ROIs[i]]  = dat['dts']\n",
    "    Sample4['ravs'+ROIs[i]] = dat['ravs']\n",
    "    Sample4['ffts'+ROIs[i]] = dat['ffts']\n",
    "    Sample4['times'+ROIs[i]]= dat['dts']/frame_rate4\n",
    "    "
   ]
  },
  {
   "cell_type": "code",
   "execution_count": 8,
   "metadata": {},
   "outputs": [
    {
     "data": {
      "text/plain": [
       "['ravs128',\n",
       " 'dts512',\n",
       " 'dts256',\n",
       " 'dts0',\n",
       " 'ffts640',\n",
       " 'times0',\n",
       " 'times512',\n",
       " 'ravs0',\n",
       " 'ravs256',\n",
       " 'times128',\n",
       " 'times256',\n",
       " 'dts640',\n",
       " 'dts128',\n",
       " 'ffts512',\n",
       " 'ravs640',\n",
       " 'ffts0',\n",
       " 'ffts256',\n",
       " 'ffts128',\n",
       " 'times640',\n",
       " 'ravs512']"
      ]
     },
     "execution_count": 8,
     "metadata": {},
     "output_type": "execute_result"
    }
   ],
   "source": [
    "Sample1.keys()"
   ]
  },
  {
   "cell_type": "code",
   "execution_count": 12,
   "metadata": {},
   "outputs": [
    {
     "data": {
      "image/png": "[encoded data removed]",
      "text/plain": [
       "<Figure size 432x288 with 1 Axes>"
      ]
     },
     "metadata": {},
     "output_type": "display_data"
    }
   ],
   "source": [
    "# mpld3.disable_notebook()\n",
    "# %matplotlib qt5\n",
    "ROIs = [0]\n",
    "col = ['mo','co','yo','ro','co','yo']\n",
    "q_index = 20\n",
    "imDimension= 128\n",
    "px = .196\n",
    "# q256 = np.arange(0,256/2)*2*np.pi*(1./(256*px))\n",
    "q = np.arange(0,128/2)*2*np.pi*(1./(128*px))\n",
    "for i in range(len(ROIs)):\n",
    "    ROI = ROIs[i]\n",
    "    times1 = Sample1['times'+str(ROIs[i])]\n",
    "    ravs1= Sample1['ravs'+str(ROIs[i])]\n",
    "    times2 = Sample2['times'+str(ROIs[i])]\n",
    "    ravs2= Sample2['ravs'+str(ROIs[i])]\n",
    "    times3 = Sample3['times'+str(ROIs[i])]\n",
    "    ravs3= Sample3['ravs'+str(ROIs[i])]\n",
    "    times4 = Sample4['times'+str(ROIs[i])]\n",
    "    ravs4= Sample4['ravs'+str(ROIs[i])]\n",
    "  \n",
    "   ##DILUTE \n",
    "    plt.loglog(times1,ravs1[:,q_index],col[0],alpha=0.4, label = 'ROI %i, TC %.3f,Bcg %.2f,StretchingExponent %.2f'\n",
    "               %(ROIs[i], fitparamsA[q_index][1], fitparamsA[q_index][2] ,fitparamsA[q_index][3] ))\n",
    "    plt.loglog(times1[:len(theoryA[q_index,:])], theoryA[q_index,:], '-b',lw=3)\n",
    "    \n",
    "#     plt.loglog(times2,ravs2[:,q_index],col[1],alpha=0.4, label = 'ROI %i, TC %.3f,Bcg %.2f,StretchingExponent %.2f'\n",
    "#                %(ROIs[i], fitparamsB[q_index][1], fitparamsB[q_index][2] ,fitparamsB[q_index][3] ))\n",
    "#     plt.loglog(times2[:len(theoryB[q_index,:])], theoryB[q_index,:], '-b',lw=3)\n",
    "    \n",
    "#     plt.loglog(times3,ravs3[:,q_index],col[2],alpha=0.4, label = 'ROI %i, TC %.3f,Bcg %.2f,StretchingExponent %.2f'\n",
    "#                %(ROIs[i], fitparamsC[q_index][1], fitparamsC[q_index][2] ,fitparamsC[q_index][3] ))\n",
    "#     plt.loglog(times3[:len(theoryC[q_index,:])], theoryC[q_index,:], '-b',lw=3)\n",
    "    \n",
    "#     plt.loglog(times4,ravs4[:,q_index],col[3],alpha=0.4, label = 'ROI %i, TC %.3f,Bcg %.2f,StretchingExponent %.2f'\n",
    "#                %(ROIs[i], fitparamsD[q_index][1], fitparamsD[q_index][2] ,fitparamsD[q_index][3] ))\n",
    "#     plt.loglog(times4[:len(theoryD[q_index,:])], theoryD[q_index,:], '-b',lw=3)\n",
    "    \n",
    "# plt.title('q_index of %i.q = %.3f 1/$\\mu$m' %(q_index, q[q_index]))\n",
    "# plt.xlabel(\"Time (s)\")\n",
    "# plt.legend()\n",
    "\n",
    "\n",
    "    "
   ]
  },
  {
   "cell_type": "code",
   "execution_count": null,
   "metadata": {},
   "outputs": [],
   "source": []
  },
  {
   "cell_type": "code",
   "execution_count": null,
   "metadata": {},
   "outputs": [],
   "source": []
  },
  {
   "cell_type": "code",
   "execution_count": null,
   "metadata": {},
   "outputs": [],
   "source": []
  }
 ],
 "metadata": {
  "kernelspec": {
   "display_name": "Python 2",
   "language": "python",
   "name": "python2"
  },
  "language_info": {
   "codemirror_mode": {
    "name": "ipython",
    "version": 2
   },
   "file_extension": ".py",
   "mimetype": "text/x-python",
   "name": "python",
   "nbconvert_exporter": "python",
   "pygments_lexer": "ipython2",
   "version": "2.7.15"
  }
 },
 "nbformat": 4,
 "nbformat_minor": 2
}

{
 "cells": [
  {
   "cell_type": "markdown",
   "metadata": {},
   "source": [
    "Imports"
   ]
  },
  {
   "cell_type": "code",
   "execution_count": 1,
   "metadata": {},
   "outputs": [
    {
     "name": "stderr",
     "output_type": "stream",
     "text": [
      "C:\\Users\\Student\\Anaconda2\\lib\\site-packages\\IPython\\html.py:14: ShimWarning: The `IPython.html` package has been deprecated since IPython 4.0. You should import from `notebook` instead. `IPython.html.widgets` has moved to `ipywidgets`.\n",
      "  \"`IPython.html.widgets` has moved to `ipywidgets`.\", ShimWarning)\n",
      "../.\\tiff_file.py:1995: UserWarning: failed to import _tifffile.decodepackbits\n",
      "  warnings.warn(\"failed to import %s\" % module_function)\n",
      "../.\\tiff_file.py:1995: UserWarning: failed to import _tifffile.decodelzw\n",
      "  warnings.warn(\"failed to import %s\" % module_function)\n",
      "../.\\tiff_file.py:1995: UserWarning: failed to import _tifffile.unpackints\n",
      "  warnings.warn(\"failed to import %s\" % module_function)\n"
     ]
    }
   ],
   "source": [
    "#Import all of the necessary packages\n",
    "import numpy as np\n",
    "import matplotlib\n",
    "import matplotlib.pyplot as plt\n",
    "from IPython.html.widgets import interact, fixed\n",
    "import ipywidgets as widgets\n",
    "import io\n",
    "\n",
    "font_plt = {'family': 'serif',\n",
    "            'color':  'darkred',\n",
    "            'weight': 'normal',\n",
    "            'size': 10,\n",
    "            }\n",
    "font_plt_ax = {'family': 'serif',\n",
    "               'color':  'black',\n",
    "               'weight': 'normal',\n",
    "               \n",
    "               'size': 10,\n",
    "              }\n",
    "import sys\n",
    "sys.path.append(\"../.\")\n",
    "import glob #glob is helpful for searching for filenames or directories\n",
    "import ddm_clean as ddm #this is the module containing the differential dynamic microscopy code\n",
    "import scipy #scientific python\n",
    "from scipy.signal import blackmanharris as bh #for Blackman-Harris windowing\n",
    "import pickle #for saving data\n",
    "from scipy.special import gamma\n",
    "import mpld3"
   ]
  },
  {
   "cell_type": "markdown",
   "metadata": {},
   "source": [
    "Pick Which Videos and ROIs You Want"
   ]
  },
  {
   "cell_type": "code",
   "execution_count": 2,
   "metadata": {},
   "outputs": [],
   "source": [
    "##Video 1\n",
    "data_dir1 = \"Z:\\\\ChristelleSummer2018\\\\Data\\\\BeadsInConditions\\\\Actin\\\\2018_07_17\\\\40\\\\Actin40fps_3\\\\\"\n",
    "datafile =\"AllResultsActin40fps717_3.p\"\n",
    "\n",
    "frame_rate = 40.0\n",
    "f = open(data_dir1+datafile,'rb')\n",
    "AllResults = pickle.load(f)\n",
    "f.close()\n",
    "\n",
    "\n",
    "# data_dir2 = \"Z:\\\\ChristelleSummer2018\\\\Data\\\\BeadsInConditions\\\\Copolymerized\\\\2018_07_17\\\\40\\\\copoly40fps_2\\\\\"\n",
    "# datafile2 =\"AllResultsCopoly40fps_2.p\"\n",
    "\n",
    "# frame_rate2 = 40.0\n",
    "# g = open(data_dir2+datafile2,'rb')\n",
    "# AllResults2 = pickle.load(g)\n",
    "# g.close()\n",
    "\n",
    "\n",
    "# ##Video 2\n",
    "# data_dir2 = \"Z:\\\\ChristelleSummer2018\\\\Data\\\\BeadsInConditions\\\\Dilute\\\\2018_07_05\\\\40\\\\2018_07_05_Dilute40fps2_1\\\\\"\n",
    "# ##Video 3\n",
    "# data_dir3 = \"Z:\\\\ChristelleSummer2018\\\\Data\\\\BeadsInConditions\\\\Dilute\\\\2018_07_05\\\\40\\\\2018_07_05_Dilute40fps2_1\\\\\"\n"
   ]
  },
  {
   "cell_type": "markdown",
   "metadata": {},
   "source": [
    "Saving all at once"
   ]
  },
  {
   "cell_type": "code",
   "execution_count": 3,
   "metadata": {},
   "outputs": [],
   "source": [
    "Sample0={}\n"
   ]
  },
  {
   "cell_type": "code",
   "execution_count": 5,
   "metadata": {},
   "outputs": [],
   "source": [
    "Sample1 ={}"
   ]
  },
  {
   "cell_type": "code",
   "execution_count": 8,
   "metadata": {},
   "outputs": [],
   "source": [
    "ROIs = ['0','128','256','384','512','640']\n",
    "for i in range(len(ROIs)):\n",
    "    ROIindex = i\n",
    "    ROI = ROIs[ROIindex]\n",
    "    \n",
    "    fitparamsB = AllResults['fitparams'+str(ROI)]\n",
    "    theoryB = AllResults['theory'+str(ROI)]\n",
    "    chiB = AllResults['chi2'+str(ROI)]\n",
    "    \n",
    "    ddmdatafile = 'Actin40fps_3_MMStack_Pos0.ome_'+str(ROI)+'_128x128_FFTDIFFS_dts_ravs.p'\n",
    "    \n",
    "    g = open(data_dir1+ddmdatafile,'rb')\n",
    "    dat = pickle.load(g)\n",
    "    g.close()\n",
    "\n",
    "    # dat = pickle.load(open(DDMdata_dir1+ddmdatafile,'r'))\n",
    "    Sample0['dts'+ROIs[i]]  = dat['dts']\n",
    "    Sample0['ravs'+ROIs[i]] = dat['ravs']\n",
    "    Sample0['ffts'+ROIs[i]] = dat['ffts']\n",
    "    Sample0['times'+ROIs[i]]= dat['dts']/frame_rate\n",
    "    \n",
    "    \n",
    "    "
   ]
  },
  {
   "cell_type": "code",
   "execution_count": 9,
   "metadata": {},
   "outputs": [
    {
     "data": {
      "text/plain": [
       "['ravs128',\n",
       " 'ffts640',\n",
       " 'dts0',\n",
       " 'times0',\n",
       " 'ravs384',\n",
       " 'dts128',\n",
       " 'ravs0',\n",
       " 'dts384',\n",
       " 'ffts0',\n",
       " 'ffts384',\n",
       " 'times640',\n",
       " 'dts512',\n",
       " 'dts256',\n",
       " 'times512',\n",
       " 'times256',\n",
       " 'ravs640',\n",
       " 'dts640',\n",
       " 'ffts128',\n",
       " 'times384',\n",
       " 'ravs256',\n",
       " 'ravs512',\n",
       " 'times128',\n",
       " 'ffts512',\n",
       " 'ffts256']"
      ]
     },
     "execution_count": 9,
     "metadata": {},
     "output_type": "execute_result"
    }
   ],
   "source": [
    "Sample0.keys()"
   ]
  },
  {
   "cell_type": "markdown",
   "metadata": {},
   "source": [
    "Video 2"
   ]
  },
  {
   "cell_type": "code",
   "execution_count": 10,
   "metadata": {},
   "outputs": [],
   "source": [
    "# ROIs = ['0','256','512']\n",
    "# for i in range(len(ROIs)):\n",
    "#     ROIindex = i\n",
    "#     ROI = ROIs[ROIindex]\n",
    "\n",
    "#     fitparamsC = AllResults2['fitparams'+str(ROI)]\n",
    "#     theoryC = AllResults2['theory'+str(ROI)]\n",
    "#     chiC = AllResults2['chi2'+str(ROI)]\n",
    "    \n",
    "#     ddmdatafile2 = 'copoly40fps_2_MMStack_Pos0.ome_'+str(ROI)+'_256x256_FFTDIFFS_dts_ravs.p'\n",
    "    \n",
    "#     h = open(data_dir2+ddmdatafile2,'rb')\n",
    "#     dat = pickle.load(h)\n",
    "#     h.close()\n",
    "\n",
    "#     # dat = pickle.load(open(DDMdata_dir1+ddmdatafile,'r'))\n",
    "#     Sample1['dts'+ROIs[i]]  = dat['dts']\n",
    "#     Sample1['ravs'+ROIs[i]] = dat['ravs']\n",
    "#     Sample1['ffts'+ROIs[i]] = dat['ffts']\n",
    "#     Sample1['times'+ROIs[i]]= dat['dts']/frame_rate\n",
    "    \n",
    "    "
   ]
  },
  {
   "cell_type": "code",
   "execution_count": null,
   "metadata": {},
   "outputs": [],
   "source": []
  },
  {
   "cell_type": "code",
   "execution_count": 23,
   "metadata": {},
   "outputs": [
    {
     "data": {
      "text/plain": [
       "<matplotlib.legend.Legend at 0xe367c50>"
      ]
     },
     "execution_count": 23,
     "metadata": {},
     "output_type": "execute_result"
    }
   ],
   "source": [
    "mpld3.disable_notebook()\n",
    "%matplotlib qt5\n",
    "ROIs = [0,128,640]\n",
    "col = ['mo','co','yo','mo','co','yo']\n",
    "q_index = 20\n",
    "imDimension= 128\n",
    "px = .196\n",
    "q = np.arange(0,imDimension/2)*2*np.pi*(1./(imDimension*px))\n",
    "for i in range(len(ROIs)):\n",
    "    ROI = ROIs[i]\n",
    "    fitparamsB = AllResults['fitparams'+str(ROI)]\n",
    "    theoryB = AllResults['theory'+str(ROI)]\n",
    "    chiB = AllResults['chi2'+str(ROI)]\n",
    "    \n",
    "    times = Sample0['times'+str(ROIs[i])]\n",
    "    ravs= Sample0['ravs'+str(ROIs[i])]\n",
    "  \n",
    "    \n",
    "    plt.loglog(times,ravs[:,q_index],col[i],alpha=0.4, label = 'ROI %i, TC %.3f,Bcg %.2f,StretchingExponent %.2f'\n",
    "               %(ROIs[i], fitparamsB[q_index][1], fitparamsB[q_index][2] ,fitparamsB[q_index][3] ))\n",
    "    plt.loglog(times[:len(theoryB[q_index,:])], theoryB[q_index,:], '-b',lw=3)\n",
    "plt.title('q_index of %i.q = %.3f 1/$\\mu$m' %(q_index, q[q_index]))\n",
    "plt.xlabel(\"Time (s)\")\n",
    "plt.legend()\n",
    "\n",
    "\n",
    "    "
   ]
  },
  {
   "cell_type": "code",
   "execution_count": 10,
   "metadata": {},
   "outputs": [
    {
     "ename": "NameError",
     "evalue": "name 'AllResults2' is not defined",
     "output_type": "error",
     "traceback": [
      "\u001b[1;31m---------------------------------------------------------------------------\u001b[0m",
      "\u001b[1;31mNameError\u001b[0m                                 Traceback (most recent call last)",
      "\u001b[1;32m<ipython-input-10-09fd05ee9af6>\u001b[0m in \u001b[0;36m<module>\u001b[1;34m()\u001b[0m\n\u001b[0;32m      7\u001b[0m \u001b[1;32mfor\u001b[0m \u001b[0mi\u001b[0m \u001b[1;32min\u001b[0m \u001b[0mrange\u001b[0m\u001b[1;33m(\u001b[0m\u001b[0mlen\u001b[0m\u001b[1;33m(\u001b[0m\u001b[0mROIs\u001b[0m\u001b[1;33m)\u001b[0m\u001b[1;33m)\u001b[0m\u001b[1;33m:\u001b[0m\u001b[1;33m\u001b[0m\u001b[0m\n\u001b[0;32m      8\u001b[0m     \u001b[0mROI\u001b[0m \u001b[1;33m=\u001b[0m \u001b[0mROIs\u001b[0m\u001b[1;33m[\u001b[0m\u001b[0mi\u001b[0m\u001b[1;33m]\u001b[0m\u001b[1;33m\u001b[0m\u001b[0m\n\u001b[1;32m----> 9\u001b[1;33m     \u001b[0mfitparamsC\u001b[0m \u001b[1;33m=\u001b[0m \u001b[0mAllResults2\u001b[0m\u001b[1;33m[\u001b[0m\u001b[1;34m'fitparams'\u001b[0m\u001b[1;33m+\u001b[0m\u001b[0mstr\u001b[0m\u001b[1;33m(\u001b[0m\u001b[0mROI\u001b[0m\u001b[1;33m)\u001b[0m\u001b[1;33m]\u001b[0m\u001b[1;33m\u001b[0m\u001b[0m\n\u001b[0m\u001b[0;32m     10\u001b[0m     \u001b[0mtheoryC\u001b[0m \u001b[1;33m=\u001b[0m \u001b[0mAllResults2\u001b[0m\u001b[1;33m[\u001b[0m\u001b[1;34m'theory'\u001b[0m\u001b[1;33m+\u001b[0m\u001b[0mstr\u001b[0m\u001b[1;33m(\u001b[0m\u001b[0mROI\u001b[0m\u001b[1;33m)\u001b[0m\u001b[1;33m]\u001b[0m\u001b[1;33m\u001b[0m\u001b[0m\n\u001b[0;32m     11\u001b[0m     \u001b[0mchiC\u001b[0m \u001b[1;33m=\u001b[0m \u001b[0mAllResults2\u001b[0m\u001b[1;33m[\u001b[0m\u001b[1;34m'chi2'\u001b[0m\u001b[1;33m+\u001b[0m\u001b[0mstr\u001b[0m\u001b[1;33m(\u001b[0m\u001b[0mROI\u001b[0m\u001b[1;33m)\u001b[0m\u001b[1;33m]\u001b[0m\u001b[1;33m\u001b[0m\u001b[0m\n",
      "\u001b[1;31mNameError\u001b[0m: name 'AllResults2' is not defined"
     ]
    }
   ],
   "source": [
    "ROIs = [0,256,512]\n",
    "col = ['mo','co','yo']\n",
    "q_index = 25\n",
    "imDimension= 256\n",
    "px = .196\n",
    "q = np.arange(0,imDimension/2)*2*np.pi*(1./(imDimension*px))\n",
    "for i in range(len(ROIs)):\n",
    "    ROI = ROIs[i]\n",
    "    fitparamsC = AllResults2['fitparams'+str(ROI)]\n",
    "    theoryC = AllResults2['theory'+str(ROI)]\n",
    "    chiC = AllResults2['chi2'+str(ROI)]\n",
    "    \n",
    "    times = Sample1['times'+str(ROIs[i])]\n",
    "    ravs= Sample1['ravs'+str(ROIs[i])]\n",
    "  \n",
    "    \n",
    "    plt.loglog(times,ravs[:,q_index],col[i],alpha=0.4, label = 'ROI %i, TC %.3f,Bcg %.2f,StretchingExponent %.2f'\n",
    "               %(ROIs[i], fitparamsC[q_index][1],fitparamsC[q_index][2], fitparamsC[q_index][3], ))\n",
    "    plt.loglog(times[:len(theoryC[q_index,:])], theoryC[q_index,:], '-b',lw=3)\n",
    "plt.title('q_index of %i. q = %.3f 1/$\\mu$m' %(q_index, q[q_index]))\n",
    "plt.xlabel(\"Time (s)\")\n",
    "plt.legend()\n",
    "\n",
    "\n",
    "    "
   ]
  },
  {
   "cell_type": "code",
   "execution_count": 21,
   "metadata": {},
   "outputs": [
    {
     "data": {
      "text/plain": [
       "(127L, 360L)"
      ]
     },
     "execution_count": 21,
     "metadata": {},
     "output_type": "execute_result"
    }
   ],
   "source": []
  },
  {
   "cell_type": "code",
   "execution_count": 78,
   "metadata": {},
   "outputs": [
    {
     "data": {
      "text/plain": [
       "array([1.89776955e+06, 5.52854552e+00, 2.00000000e+01, 7.25078136e-01,\n",
       "       0.00000000e+00, 4.70000000e-01, 6.00000000e-01])"
      ]
     },
     "execution_count": 78,
     "metadata": {},
     "output_type": "execute_result"
    }
   ],
   "source": []
  },
  {
   "cell_type": "code",
   "execution_count": null,
   "metadata": {},
   "outputs": [],
   "source": []
  }
 ],
 "metadata": {
  "kernelspec": {
   "display_name": "Python 2",
   "language": "python",
   "name": "python2"
  },
  "language_info": {
   "codemirror_mode": {
    "name": "ipython",
    "version": 2
   },
   "file_extension": ".py",
   "mimetype": "text/x-python",
   "name": "python",
   "nbconvert_exporter": "python",
   "pygments_lexer": "ipython2",
   "version": "2.7.15"
  }
 },
 "nbformat": 4,
 "nbformat_minor": 2
}

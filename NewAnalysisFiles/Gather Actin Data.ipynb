{
 "cells": [
  {
   "cell_type": "code",
   "execution_count": 1,
   "metadata": {},
   "outputs": [
    {
     "name": "stderr",
     "output_type": "stream",
     "text": [
      "C:\\ProgramData\\Anaconda2\\lib\\site-packages\\IPython\\html.py:14: ShimWarning: The `IPython.html` package has been deprecated since IPython 4.0. You should import from `notebook` instead. `IPython.html.widgets` has moved to `ipywidgets`.\n",
      "  \"`IPython.html.widgets` has moved to `ipywidgets`.\", ShimWarning)\n",
      "../.\\tiff_file.py:1995: UserWarning: failed to import _tifffile.decodepackbits\n",
      "  warnings.warn(\"failed to import %s\" % module_function)\n",
      "../.\\tiff_file.py:1995: UserWarning: failed to import _tifffile.decodelzw\n",
      "  warnings.warn(\"failed to import %s\" % module_function)\n",
      "../.\\tiff_file.py:1995: UserWarning: failed to import _tifffile.unpackints\n",
      "  warnings.warn(\"failed to import %s\" % module_function)\n"
     ]
    }
   ],
   "source": [
    "#Import all of the necessary packages\n",
    "import numpy as np\n",
    "import matplotlib\n",
    "import matplotlib.pyplot as plt\n",
    "from IPython.html.widgets import interact, fixed\n",
    "import ipywidgets as widgets\n",
    "import io\n",
    "\n",
    "font_plt = {'family': 'serif',\n",
    "            'color':  'darkred',\n",
    "            'weight': 'normal',\n",
    "            'size': 10,\n",
    "            }\n",
    "font_plt_ax = {'family': 'serif',\n",
    "               'color':  'black',\n",
    "               'weight': 'normal',\n",
    "               \n",
    "               'size': 10,\n",
    "              }\n",
    "import sys\n",
    "sys.path.append(\"../.\")\n",
    "import glob #glob is helpful for searching for filenames or directories\n",
    "import ddm_clean as ddm #this is the module containing the differential dynamic microscopy code\n",
    "import scipy #scientific python\n",
    "from scipy.signal import blackmanharris as bh #for Blackman-Harris windowing\n",
    "import pickle #for saving data\n",
    "from scipy.special import gamma\n",
    "\n",
    "import mpld3"
   ]
  },
  {
   "cell_type": "code",
   "execution_count": 5,
   "metadata": {},
   "outputs": [],
   "source": [
    "imDimension = 256\n",
    "px = 0.189\n",
    "q = np.arange(0,imDimension/2)*2*np.pi*(1./(imDimension*px))"
   ]
  },
  {
   "cell_type": "code",
   "execution_count": 37,
   "metadata": {},
   "outputs": [],
   "source": [
    "data_dir = \"Z:\\\\ChristelleSummer2018\\\\Data\\\\BeadsInConditions\\\\Actin\\\\2018_07_17\\\\40\\\\Actin40fps_3 - Copy\\\\\"\n",
    "f = open(data_dir+\"2018-07-17_Actin_40fps_3_SingleExp_VaryAll_256ROI.p\",'rb')\n",
    "fp_40fps_3_256 = pickle.load(f)\n",
    "f.close()\n",
    "\n",
    "data_dir = \"Z:\\\\ChristelleSummer2018\\\\Data\\\\BeadsInConditions\\\\Actin\\\\2018_07_17\\\\40\\\\Actin40fps_3 - Copy\\\\\"\n",
    "f = open(data_dir+\"2018-07-17_Actin_40fps_3_SingleExp_VaryAll_ROI0.p\",'rb')\n",
    "fp_40fps_3_0 = pickle.load(f)\n",
    "f.close()"
   ]
  },
  {
   "cell_type": "code",
   "execution_count": 50,
   "metadata": {},
   "outputs": [],
   "source": [
    "data_dir = \"Z:\\\\ChristelleSummer2018\\\\Data\\\\BeadsInConditions\\\\Actin\\\\2018_07_17\\\\9.5\\\\Actin9.5fps_1\\\\\"\n",
    "f = open(data_dir+\"2018-07-17_Actin_9.5fps_1_SingleExp_Alpha-0.8_512ROI.p\",'rb')\n",
    "fp_95fps_1_512 = pickle.load(f)\n",
    "f.close()\n",
    "\n",
    "data_dir = \"Z:\\\\ChristelleSummer2018\\\\Data\\\\BeadsInConditions\\\\Actin\\\\2018_07_17\\\\9.5\\\\Actin9.5fps_1\\\\\"\n",
    "f = open(data_dir+\"2018-07-17_Actin_9.5fps_1_SingleExp_Alpha-0.8_256ROI.p\",'rb')\n",
    "fp_95fps_1_256 = pickle.load(f)\n",
    "f.close()\n",
    "\n",
    "data_dir = \"Z:\\\\ChristelleSummer2018\\\\Data\\\\BeadsInConditions\\\\Actin\\\\2018_07_17\\\\9.5\\\\Actin9.5fps_1\\\\\"\n",
    "f = open(data_dir+\"2018-07-17_Actin_9.5fps_1_SingleExp_Alpha-0.8_0ROI.p\",'rb')\n",
    "fp_95fps_1_0 = pickle.load(f)\n",
    "f.close()"
   ]
  },
  {
   "cell_type": "code",
   "execution_count": 46,
   "metadata": {},
   "outputs": [],
   "source": [
    "data_dir = \"Z:\\\\ChristelleSummer2018\\\\Data\\\\BeadsInConditions\\\\Actin\\\\2018_07_17\\\\4\\\\Actin4fps5000_1\\\\\"\n",
    "f = open(data_dir+\"2018-07-17_Actin_4fps_2_SingleExp_Alpha-0.8_256ROI.p\",'rb')\n",
    "fp_4_2_256 = pickle.load(f)\n",
    "f.close()\n",
    "\n",
    "data_dir = \"Z:\\\\ChristelleSummer2018\\\\Data\\\\BeadsInConditions\\\\Actin\\\\2018_07_17\\\\4\\\\Actin4fps5000_1\\\\\"\n",
    "f = open(data_dir+\"2018-07-17_Actin_4fps_2_SingleExp_Alpha-0.8_0ROI.p\",'rb')\n",
    "fp_4_2_0 = pickle.load(f)\n",
    "f.close()"
   ]
  },
  {
   "cell_type": "code",
   "execution_count": 51,
   "metadata": {},
   "outputs": [
    {
     "data": {
      "text/plain": [
       "Text(0.5,1,u'Beads in Actin -- 2017-07-17 Data. All using 256 ROI')"
      ]
     },
     "execution_count": 51,
     "metadata": {},
     "output_type": "execute_result"
    }
   ],
   "source": [
    "mpld3.disable_notebook()\n",
    "%matplotlib qt5\n",
    "#Plot the decay time versus the wave vector\n",
    "fig = plt.figure(figsize=(8,8/1.618)); ax = fig.gca(); \n",
    "\n",
    "tau_40fps_3_256 = ddm.newt(fp_40fps_3_256[:,1][2:-30],fp_40fps_3_256[:,3][2:-30])\n",
    "tau_40fps_3_0 = ddm.newt(fp_40fps_3_0[:,1][2:-30],fp_40fps_3_0[:,3][2:-30])\n",
    "tau_95fps_1_512 = ddm.newt(fp_95fps_1_512[:,1][2:-30],fp_95fps_1_512[:,3][2:-30])\n",
    "tau_95fps_1_256 = ddm.newt(fp_95fps_1_256[:,1][2:-30],fp_95fps_1_256[:,3][2:-30])\n",
    "tau_95fps_1_0 = ddm.newt(fp_95fps_1_0[:,1][2:-30],fp_95fps_1_0[:,3][2:-30])\n",
    "tau_4fps_2_256 = ddm.newt(fp_4_2_256[:,1][2:-30],fp_4_2_256[:,3][2:-30])\n",
    "tau_4fps_2_0 = ddm.newt(fp_4_2_0[:,1][2:-30],fp_4_2_0[:,3][2:-30])\n",
    "ax.loglog(q[2:-31], tau_40fps_3_256,'mo', label='40 fps')\n",
    "ax.loglog(q[2:-31], tau_40fps_3_0,'bo', label='40 fps')\n",
    "ax.loglog(q[2:-31], tau_95fps_1_512,'rs', label='9.5 fps')\n",
    "ax.loglog(q[2:-31], tau_95fps_1_256,'ro', label='9.5 fps')\n",
    "ax.loglog(q[2:-31], tau_95fps_1_0,'yo', label='9.5 fps')\n",
    "ax.loglog(q[2:-31], tau_4fps_2_256,'go', label='4 fps')\n",
    "ax.loglog(q[2:-31], tau_4fps_2_0,'co', label='4 fps')\n",
    "\n",
    "ax.legend(loc=0)\n",
    "\n",
    "ax.set_xlim(1.5,9)\n",
    "ax.set_ylim(7,160)\n",
    "\n",
    "\n",
    "diffusion_coeff = .003\n",
    "power = 2.0\n",
    "ax.plot(q[2:-2], (1./diffusion_coeff) * 1./(q[2:-2]**power), '--c', label=\"Diffusive\")\n",
    "ax.text(0.45,0.15,'D = %.4f um2/s' % diffusion_coeff,\n",
    "        fontdict=font_plt,horizontalalignment='left', \n",
    "        verticalalignment='center', transform=ax.transAxes)\n",
    "\n",
    "diffusion_coeff = .0007\n",
    "power = 2.0\n",
    "ax.plot(q[2:-2], (1./diffusion_coeff) * 1./(q[2:-2]**power), '--c', label=\"Diffusive\")\n",
    "ax.text(0.45,0.08,'D = %.4f um2/s' % diffusion_coeff,\n",
    "        fontdict=font_plt,horizontalalignment='left', \n",
    "        verticalalignment='center', transform=ax.transAxes)\n",
    "\n",
    "ax.set_xlabel(\"q (um^-1)\", fontdict=font_plt_ax)\n",
    "ax.set_ylabel(\"tau (s)\", fontdict=font_plt_ax)\n",
    "\n",
    "ax.set_title(\"Beads in Actin -- 2017-07-17 Data. All using 256 ROI\")"
   ]
  },
  {
   "cell_type": "code",
   "execution_count": null,
   "metadata": {},
   "outputs": [],
   "source": []
  }
 ],
 "metadata": {
  "kernelspec": {
   "display_name": "Python 2",
   "language": "python",
   "name": "python2"
  },
  "language_info": {
   "codemirror_mode": {
    "name": "ipython",
    "version": 2
   },
   "file_extension": ".py",
   "mimetype": "text/x-python",
   "name": "python",
   "nbconvert_exporter": "python",
   "pygments_lexer": "ipython2",
   "version": "2.7.14"
  }
 },
 "nbformat": 4,
 "nbformat_minor": 2
}

{
 "cells": [
  {
   "cell_type": "markdown",
   "metadata": {},
   "source": [
    "Imports"
   ]
  },
  {
   "cell_type": "code",
   "execution_count": 117,
   "metadata": {},
   "outputs": [],
   "source": [
    "#Import all of the necessary packages\n",
    "import numpy as np\n",
    "import matplotlib\n",
    "import matplotlib.pyplot as plt\n",
    "from IPython.html.widgets import interact, fixed\n",
    "import ipywidgets as widgets\n",
    "import io\n",
    "\n",
    "font_plt = {'family': 'serif',\n",
    "            'color':  'darkred',\n",
    "            'weight': 'normal',\n",
    "            'size': 10,\n",
    "            }\n",
    "font_plt_ax = {'family': 'serif',\n",
    "               'color':  'black',\n",
    "               'weight': 'normal',\n",
    "               \n",
    "               'size': 10,\n",
    "              }\n",
    "import sys\n",
    "sys.path.append(\"../.\")\n",
    "import glob #glob is helpful for searching for filenames or directories\n",
    "import ddm_clean as ddm #this is the module containing the differential dynamic microscopy code\n",
    "import scipy #scientific python\n",
    "from scipy.signal import blackmanharris as bh #for Blackman-Harris windowing\n",
    "import pickle #for saving data\n",
    "from scipy.special import gamma\n",
    "import mpld3"
   ]
  },
  {
   "cell_type": "markdown",
   "metadata": {},
   "source": [
    "Pick Which Videos and ROIs You Want\n",
    "\n",
    "\n",
    "Change the Data Directory, Data File, Frame Rate, and Image Dimension"
   ]
  },
  {
   "cell_type": "code",
   "execution_count": 108,
   "metadata": {},
   "outputs": [],
   "source": [
    "Sample0={}\n",
    "Sample1 ={}"
   ]
  },
  {
   "cell_type": "code",
   "execution_count": 109,
   "metadata": {},
   "outputs": [],
   "source": [
    "##Video 1\n",
    "data_dir1 = \"Z:\\\\ChristelleSummer2018\\\\Data\\\\BeadsInConditions\\\\Tubulin\\\\2018_07_17\\\\40\\\\tub40fps_1\\\\\"\n",
    "datafile =\"AllResultsTub40fps_1.p\"\n",
    "\n",
    "frame_rate = 40.0\n",
    "imDimension =256    ##Change this accordingly\n",
    "\n",
    "f = open(data_dir1+datafile,'rb')\n",
    "AllResults = pickle.load(f)\n",
    "f.close()\n",
    "\n",
    "\n",
    "# ##Video 2 If you want to plot another graph...\n",
    "# data_dir2 = \"Z:\\\\ChristelleSummer2018\\\\Data\\\\BeadsInConditions\\\\Tubulin\\\\2018_07_17\\\\40\\\\tub40fps_2\\\\\"\n",
    "# datafile2 =\"AllResultsTub40fps_2.p\"\n",
    "\n",
    "# frame_rate2 = 40.0\n",
    "# g = open(data_dir2+datafile2,'rb')\n",
    "# AllResults2 = pickle.load(g)\n",
    "# g.close()\n"
   ]
  },
  {
   "cell_type": "code",
   "execution_count": 110,
   "metadata": {},
   "outputs": [],
   "source": [
    "## You dont have to edit anything here unless it can't find the fft files then change the ddmdatafile\n",
    "if(imDimension == 256):\n",
    "    ROIs = ['0','256','512']   ##for a 256\n",
    "elif(imDimension==128):\n",
    "    ROIs = ['0','128','256','384','512','640'] ##for a 128\n",
    "for i in range(len(ROIs)):\n",
    "    ROI = ROIs[i]\n",
    "    \n",
    "    fitparamsA = AllResults['fitparams'+str(ROI)]\n",
    "    theoryA = AllResults['theory'+str(ROI)]\n",
    "    chiA = AllResults['chi2'+str(ROI)]\n",
    "    \n",
    "    ##File Name of the fft files\n",
    "    ddmdatafile = data_dir1.split(\"\\\\\")[-2]+'_MMStack_Pos0.ome_'+str(ROI)+'_256x256_FFTDIFFS_dts_ravs.p'\n",
    "    \n",
    "    g = open(data_dir1+ddmdatafile,'rb')\n",
    "    dat = pickle.load(g)\n",
    "    g.close()\n",
    "    \n",
    "    Sample0['dts'+ROIs[i]]  = dat['dts']\n",
    "    Sample0['ravs'+ROIs[i]] = dat['ravs']\n",
    "    Sample0['ffts'+ROIs[i]] = dat['ffts']\n",
    "    Sample0['times'+ROIs[i]]= dat['dts']/frame_rate\n",
    "    \n",
    "    \n",
    "    \n",
    "    "
   ]
  },
  {
   "cell_type": "code",
   "execution_count": null,
   "metadata": {},
   "outputs": [],
   "source": []
  },
  {
   "cell_type": "markdown",
   "metadata": {},
   "source": [
    "Video 2"
   ]
  },
  {
   "cell_type": "code",
   "execution_count": 66,
   "metadata": {},
   "outputs": [],
   "source": [
    "# ROIs = ['0','256','512']\n",
    "# for i in range(len(ROIs)):\n",
    "#     ROIindex = i\n",
    "#     ROI = ROIs[ROIindex]\n",
    "\n",
    "#     fitparamsC = AllResults2['fitparams'+str(ROI)]\n",
    "#     theoryC = AllResults2['theory'+str(ROI)]\n",
    "#     chiC = AllResults2['chi2'+str(ROI)]\n",
    "    \n",
    "#     ddmdatafile2 = 'tub40fps_2_MMStack_Pos0.ome_'+str(ROI)+'_256x256_FFTDIFFS_dts_ravs.p'\n",
    "    \n",
    "#     h = open(data_dir2+ddmdatafile2,'rb')\n",
    "#     dat = pickle.load(h)\n",
    "#     h.close()\n",
    "\n",
    "#     # dat = pickle.load(open(DDMdata_dir1+ddmdatafile,'r'))\n",
    "#     Sample1['dts'+ROIs[i]]  = dat['dts']\n",
    "#     Sample1['ravs'+ROIs[i]] = dat['ravs']\n",
    "#     Sample1['ffts'+ROIs[i]] = dat['ffts']\n",
    "#     Sample1['times'+ROIs[i]]= dat['dts']/frame_rate\n",
    "    \n",
    "    "
   ]
  },
  {
   "cell_type": "markdown",
   "metadata": {},
   "source": [
    "Plotting\n",
    "\n",
    "pick your q index"
   ]
  },
  {
   "cell_type": "code",
   "execution_count": 111,
   "metadata": {},
   "outputs": [],
   "source": [
    "q_index = 20"
   ]
  },
  {
   "cell_type": "code",
   "execution_count": 121,
   "metadata": {},
   "outputs": [
    {
     "data": {
      "text/plain": [
       "<matplotlib.legend.Legend at 0x6e234ba8>"
      ]
     },
     "execution_count": 121,
     "metadata": {},
     "output_type": "execute_result"
    }
   ],
   "source": [
    "##plots all ROIs together\n",
    "if(imDimension == 256):\n",
    "    ROIs = [0,256,512]   ##for a 256\n",
    "elif(imDimension==128):\n",
    "    ROIs = [0,128,256,384,512,640] ##for a 128\n",
    "col = ['mo','co','yo','ro','bo','ko']\n",
    "px = .196\n",
    "q = np.arange(0,imDimension/2)*2*np.pi*(1./(imDimension*px))\n",
    "\n",
    "for i in range(len(ROIs)):\n",
    "    ROI = ROIs[i]\n",
    "    fitparamsA = AllResults['fitparams'+str(ROI)]\n",
    "    theoryA = AllResults['theory'+str(ROI)]\n",
    "    chiA = AllResults['chi2'+str(ROI)]\n",
    "    \n",
    "    times = Sample0['times'+str(ROIs[i])]\n",
    "    ravs= Sample0['ravs'+str(ROIs[i])]\n",
    "  \n",
    "    \n",
    "    plt.loglog(times,ravs[:,q_index],col[i],alpha=0.4, label = 'ROI %i, TC %.3f,Bcg %.2f,StretchingExponent %.2f'\n",
    "               %(ROIs[i], fitparamsA[q_index][1], fitparamsA[q_index][2] ,fitparamsA[q_index][3] ))\n",
    "    plt.loglog(times[:len(theoryA[q_index,:])], theoryA[q_index,:], '-b',lw=3)\n",
    "plt.title('q_index of %i.q = %.3f 1/$\\mu$m' %(q_index, q[q_index]))\n",
    "plt.xlabel(\"Time (s)\")\n",
    "plt.legend()\n",
    "\n",
    "\n",
    "    "
   ]
  },
  {
   "cell_type": "code",
   "execution_count": 152,
   "metadata": {},
   "outputs": [
    {
     "data": {
      "text/plain": [
       "<matplotlib.legend.Legend at 0x71ed5940>"
      ]
     },
     "execution_count": 152,
     "metadata": {},
     "output_type": "execute_result"
    }
   ],
   "source": [
    "##scaled for better comparison\n",
    "if(imDimension == 256):\n",
    "    ROIs = [0,256,512]   ##for a 256\n",
    "elif(imDimension==128):\n",
    "    ROIs = [0,128,256,384,512,640] ##for a 128\n",
    "col = ['mo','co','yo','ro','bo','ko']\n",
    "px = .196\n",
    "q = np.arange(0,imDimension/2)*2*np.pi*(1./(imDimension*px))\n",
    "\n",
    "for i in range(len(ROIs)):\n",
    "    ROI = ROIs[i]\n",
    "    fitparamsA = AllResults['fitparams'+str(ROI)]\n",
    "    theoryA = AllResults['theory'+str(ROI)]\n",
    "    chiA = AllResults['chi2'+str(ROI)]\n",
    "    \n",
    "    times = Sample0['times'+str(ROIs[i])]\n",
    "    ravs= Sample0['ravs'+str(ROIs[i])]\n",
    "    adjustedravs = (ravs[:,q_index]-fitparamsA[q_index][2])/fitparamsA[q_index][0]\n",
    "    adjustedtheoryA = (theoryA-fitparamsA[q_index][2])/fitparamsA[q_index][0]\n",
    "    \n",
    "    plt.loglog(times,adjustedravs,col[i],alpha=0.4, label = 'ROI %i, TC %.3f,Bcg %.2f,StretchingExponent %.2f'\n",
    "               %(ROIs[i], fitparamsA[q_index][1], fitparamsA[q_index][2] ,fitparamsA[q_index][3] ))\n",
    "    \n",
    "    plt.loglog(times[:len(adjustedtheoryA[q_index,:])], adjustedtheoryA[q_index,:], '-b',lw=3)\n",
    "plt.title('q_index of %i.q = %.3f 1/$\\mu$m' %(q_index, q[q_index]))\n",
    "plt.xlabel(\"Time (s)\")\n",
    "plt.legend()\n",
    "\n"
   ]
  },
  {
   "cell_type": "code",
   "execution_count": 146,
   "metadata": {},
   "outputs": [
    {
     "data": {
      "text/plain": [
       "(127L, 360L)"
      ]
     },
     "execution_count": 146,
     "metadata": {},
     "output_type": "execute_result"
    }
   ],
   "source": [
    "theoryA.shape"
   ]
  },
  {
   "cell_type": "code",
   "execution_count": 141,
   "metadata": {},
   "outputs": [],
   "source": [
    "adjustedravs = (ravs[:,q_index]-fitparamsA[q_index][2])"
   ]
  },
  {
   "cell_type": "code",
   "execution_count": 143,
   "metadata": {},
   "outputs": [
    {
     "data": {
      "text/plain": [
       "(400L,)"
      ]
     },
     "execution_count": 143,
     "metadata": {},
     "output_type": "execute_result"
    }
   ],
   "source": [
    "adjustedravs.shape"
   ]
  },
  {
   "cell_type": "code",
   "execution_count": 126,
   "metadata": {},
   "outputs": [
    {
     "data": {
      "text/plain": [
       "(400L,)"
      ]
     },
     "execution_count": 126,
     "metadata": {},
     "output_type": "execute_result"
    }
   ],
   "source": [
    "times.shape"
   ]
  },
  {
   "cell_type": "code",
   "execution_count": null,
   "metadata": {},
   "outputs": [],
   "source": []
  }
 ],
 "metadata": {
  "kernelspec": {
   "display_name": "Python 2",
   "language": "python",
   "name": "python2"
  },
  "language_info": {
   "codemirror_mode": {
    "name": "ipython",
    "version": 2
   },
   "file_extension": ".py",
   "mimetype": "text/x-python",
   "name": "python",
   "nbconvert_exporter": "python",
   "pygments_lexer": "ipython2",
   "version": "2.7.15"
  }
 },
 "nbformat": 4,
 "nbformat_minor": 2
}

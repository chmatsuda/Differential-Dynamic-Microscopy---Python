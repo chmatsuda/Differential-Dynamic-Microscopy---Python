{
 "cells": [
  {
   "cell_type": "markdown",
   "metadata": {},
   "source": [
    "Imports"
   ]
  },
  {
   "cell_type": "code",
   "execution_count": 1,
   "metadata": {},
   "outputs": [
    {
     "name": "stderr",
     "output_type": "stream",
     "text": [
      "tiff_file.py:1995: UserWarning: failed to import _tifffile.decodepackbits\n",
      "  warnings.warn(\"failed to import %s\" % module_function)\n",
      "tiff_file.py:1995: UserWarning: failed to import _tifffile.decodelzw\n",
      "  warnings.warn(\"failed to import %s\" % module_function)\n",
      "tiff_file.py:1995: UserWarning: failed to import _tifffile.unpackints\n",
      "  warnings.warn(\"failed to import %s\" % module_function)\n"
     ]
    }
   ],
   "source": [
    "import numpy as np\n",
    "import sys\n",
    "import pickle\n",
    "sys.path.append(\"Z:\\\\ChristelleSummer2018\\\\Code\\\\Differential-Dynamic-Microscopy---Python\\\\\")\n",
    "import mpfit\n",
    "import ddm_clean\n",
    "import tiff_file\n",
    "import scipy\n",
    "from scipy.signal import blackmanharris as bh\n",
    "import glob   \n",
    "import pylab"
   ]
  },
  {
   "cell_type": "markdown",
   "metadata": {},
   "source": [
    "Where is the file?"
   ]
  },
  {
   "cell_type": "code",
   "execution_count": 2,
   "metadata": {},
   "outputs": [],
   "source": [
    "Data_dir = \"Z:\\\\ChristelleSummer2018\\\\Data\\\\BeadsInConditions\\\\Copolymerized\\\\2018_08_07_75Actin\\\\2018_08_07_75Actin25Tub9.5fps_1\\\\\"\n",
    "files = glob.glob(Data_dir+\"**ome.tif\")\n",
    "files.sort()"
   ]
  },
  {
   "cell_type": "code",
   "execution_count": 3,
   "metadata": {},
   "outputs": [
    {
     "data": {
      "text/plain": [
       "['Z:\\\\ChristelleSummer2018\\\\Data\\\\BeadsInConditions\\\\Copolymerized\\\\2018_08_07_75Actin\\\\2018_08_07_75Actin25Tub9.5fps_1\\\\2018_08_07_75Actin25Tub9.5fps_1_MMStack_Pos0.ome.tif']"
      ]
     },
     "execution_count": 3,
     "metadata": {},
     "output_type": "execute_result"
    }
   ],
   "source": [
    "files"
   ]
  },
  {
   "cell_type": "markdown",
   "metadata": {},
   "source": [
    "How many frames do you have?\n"
   ]
  },
  {
   "cell_type": "code",
   "execution_count": 4,
   "metadata": {},
   "outputs": [],
   "source": [
    "num_frames = 5000\n",
    "if (num_frames == 1000):\n",
    "    a = 998\n",
    "elif (num_frames == 3000):\n",
    "    a = 1998\n",
    "elif (num_frames == 5000):\n",
    "    a = 2998"
   ]
  },
  {
   "cell_type": "code",
   "execution_count": 5,
   "metadata": {},
   "outputs": [],
   "source": [
    "dts = ddm_clean.genLogDist(1,a,400)\n",
    "\n",
    "x,y = np.meshgrid(bh(128),bh(128))\n",
    "filter_func = x*y\n",
    "\n",
    "## Normal Video\n",
    "\n",
    "ROI = ['0', '128', '256', '384','512','640']\n",
    "\n",
    "ran = [0, 128, 256, 384, 512, 640]\n",
    "\n",
    "ran2 = [128, 256, 384, 512, 640, 768]\n",
    "\n",
    "## For a Binned 768x266 Video\n",
    "\n",
    "ROI_b = ['0','256','512']\n",
    "ran_b = [0,256,512]; \n",
    "ran_b2 = [256, 512, 768]"
   ]
  },
  {
   "cell_type": "code",
   "execution_count": null,
   "metadata": {},
   "outputs": [],
   "source": [
    "\n",
    "# pylab.matshow(filter_func)"
   ]
  },
  {
   "cell_type": "markdown",
   "metadata": {},
   "source": [
    "FFTs"
   ]
  },
  {
   "cell_type": "code",
   "execution_count": null,
   "metadata": {},
   "outputs": [],
   "source": [
    "for i in range(len(files)):\n",
    "    \n",
    "    im = tiff_file.imread(files)\n",
    "    \n",
    "    for j in range(len(ROI)):\n",
    "        \n",
    "        fft,dtsB = ddm_clean.getFFTDiffsAtTimes(im[:,68:196,ran[j]:ran2[j]]*filter_func, dts, every=None, limitImsTo=None, submean=True)\n",
    "        ravs = ddm_clean.radialAvFFTs_v2(fft)\n",
    "        dts_fft = {'dts':dts, 'ffts':fft, 'ravs':ravs}\n",
    "        pickle.dump(dts_fft, open(files[i][:-4]+\"_\"+ROI[j]+\"_128x128_FFTDIFFS_dts_ravs.p\",'wb'))"
   ]
  },
  {
   "cell_type": "markdown",
   "metadata": {},
   "source": [
    "BINNNED FFTs"
   ]
  },
  {
   "cell_type": "code",
   "execution_count": null,
   "metadata": {},
   "outputs": [],
   "source": [
    "for i in range(len(files)):\n",
    "    \n",
    "    im = tiff_file.imread(files)\n",
    "    \n",
    "    for j in range(len(ROI_b)):\n",
    "        \n",
    "        fft,dtsB = ddm_clean.getFFTDiffsAtTimes(im[:,5:261,ran_b[j]:ran_b2[j]], dts, every=None, limitImsTo=None, submean=True)\n",
    "        ravs = ddm_clean.radialAvFFTs_v2(fft)\n",
    "        dts_fft = {'dts':dts, 'ffts':fft, 'ravs':ravs}\n",
    "        pickle.dump(dts_fft, open(files[i][:-4]+\"_\"+ROI_b[j]+\"_256x256_FFTDIFFS_dts_ravs.p\",'wb'))"
   ]
  },
  {
   "cell_type": "code",
   "execution_count": 6,
   "metadata": {},
   "outputs": [
    {
     "ename": "MemoryError",
     "evalue": "",
     "output_type": "error",
     "traceback": [
      "\u001b[1;31m---------------------------------------------------------------------------\u001b[0m",
      "\u001b[1;31mMemoryError\u001b[0m                               Traceback (most recent call last)",
      "\u001b[1;32m<ipython-input-6-1c3917c7b161>\u001b[0m in \u001b[0;36m<module>\u001b[1;34m()\u001b[0m\n\u001b[0;32m      1\u001b[0m \u001b[0mim\u001b[0m \u001b[1;33m=\u001b[0m \u001b[0mtiff_file\u001b[0m\u001b[1;33m.\u001b[0m\u001b[0mimread\u001b[0m\u001b[1;33m(\u001b[0m\u001b[0mfiles\u001b[0m\u001b[1;33m)\u001b[0m\u001b[1;33m\u001b[0m\u001b[0m\n\u001b[1;32m----> 2\u001b[1;33m \u001b[0mfft\u001b[0m\u001b[1;33m,\u001b[0m\u001b[0mdtsB\u001b[0m \u001b[1;33m=\u001b[0m \u001b[0mddm_clean\u001b[0m\u001b[1;33m.\u001b[0m\u001b[0mgetFFTDiffsAtTimes\u001b[0m\u001b[1;33m(\u001b[0m\u001b[0mim\u001b[0m\u001b[1;33m[\u001b[0m\u001b[1;33m:\u001b[0m\u001b[1;33m,\u001b[0m\u001b[1;36m5\u001b[0m\u001b[1;33m:\u001b[0m\u001b[1;36m261\u001b[0m\u001b[1;33m,\u001b[0m\u001b[0mran_b\u001b[0m\u001b[1;33m[\u001b[0m\u001b[1;36m2\u001b[0m\u001b[1;33m]\u001b[0m\u001b[1;33m:\u001b[0m\u001b[0mran_b2\u001b[0m\u001b[1;33m[\u001b[0m\u001b[1;36m2\u001b[0m\u001b[1;33m]\u001b[0m\u001b[1;33m]\u001b[0m\u001b[1;33m,\u001b[0m \u001b[0mdts\u001b[0m\u001b[1;33m,\u001b[0m \u001b[0mevery\u001b[0m\u001b[1;33m=\u001b[0m\u001b[0mNone\u001b[0m\u001b[1;33m,\u001b[0m \u001b[0mlimitImsTo\u001b[0m\u001b[1;33m=\u001b[0m\u001b[0mNone\u001b[0m\u001b[1;33m,\u001b[0m \u001b[0msubmean\u001b[0m\u001b[1;33m=\u001b[0m\u001b[0mTrue\u001b[0m\u001b[1;33m)\u001b[0m\u001b[1;33m\u001b[0m\u001b[0m\n\u001b[0m\u001b[0;32m      3\u001b[0m \u001b[0mravs\u001b[0m \u001b[1;33m=\u001b[0m \u001b[0mddm_clean\u001b[0m\u001b[1;33m.\u001b[0m\u001b[0mradialAvFFTs_v2\u001b[0m\u001b[1;33m(\u001b[0m\u001b[0mfft\u001b[0m\u001b[1;33m)\u001b[0m\u001b[1;33m\u001b[0m\u001b[0m\n\u001b[0;32m      4\u001b[0m \u001b[0mdts_fft\u001b[0m \u001b[1;33m=\u001b[0m \u001b[1;33m{\u001b[0m\u001b[1;34m'dts'\u001b[0m\u001b[1;33m:\u001b[0m\u001b[0mdts\u001b[0m\u001b[1;33m,\u001b[0m \u001b[1;34m'ffts'\u001b[0m\u001b[1;33m:\u001b[0m\u001b[0mfft\u001b[0m\u001b[1;33m,\u001b[0m \u001b[1;34m'ravs'\u001b[0m\u001b[1;33m:\u001b[0m\u001b[0mravs\u001b[0m\u001b[1;33m}\u001b[0m\u001b[1;33m\u001b[0m\u001b[0m\n\u001b[0;32m      5\u001b[0m \u001b[0mpickle\u001b[0m\u001b[1;33m.\u001b[0m\u001b[0mdump\u001b[0m\u001b[1;33m(\u001b[0m\u001b[0mdts_fft\u001b[0m\u001b[1;33m,\u001b[0m \u001b[0mopen\u001b[0m\u001b[1;33m(\u001b[0m\u001b[0mfiles\u001b[0m\u001b[1;33m[\u001b[0m\u001b[0mi\u001b[0m\u001b[1;33m]\u001b[0m\u001b[1;33m[\u001b[0m\u001b[1;33m:\u001b[0m\u001b[1;33m-\u001b[0m\u001b[1;36m4\u001b[0m\u001b[1;33m]\u001b[0m\u001b[1;33m+\u001b[0m\u001b[1;34m\"_\"\u001b[0m\u001b[1;33m+\u001b[0m\u001b[0mROI_b\u001b[0m\u001b[1;33m[\u001b[0m\u001b[1;36m2\u001b[0m\u001b[1;33m]\u001b[0m\u001b[1;33m+\u001b[0m\u001b[1;34m\"_256x256_FFTDIFFS_dts_ravs.p\"\u001b[0m\u001b[1;33m,\u001b[0m\u001b[1;34m'wb'\u001b[0m\u001b[1;33m)\u001b[0m\u001b[1;33m)\u001b[0m\u001b[1;33m\u001b[0m\u001b[0m\n",
      "\u001b[1;32mZ:\\ChristelleSummer2018\\Code\\Differential-Dynamic-Microscopy---Python\\ddm_clean.pyc\u001b[0m in \u001b[0;36mgetFFTDiffsAtTimes\u001b[1;34m(imageFile, dts, limitImsTo, every, shiftAtEnd, noshift, submean)\u001b[0m\n\u001b[0;32m    104\u001b[0m \u001b[1;33m\u001b[0m\u001b[0m\n\u001b[0;32m    105\u001b[0m         \u001b[1;31m#Calculates all differences of images with a delay time dt\u001b[0m\u001b[1;33m\u001b[0m\u001b[1;33m\u001b[0m\u001b[0m\n\u001b[1;32m--> 106\u001b[1;33m         \u001b[0mall_diffs\u001b[0m \u001b[1;33m=\u001b[0m \u001b[0mims\u001b[0m\u001b[1;33m[\u001b[0m\u001b[0mdt\u001b[0m\u001b[1;33m:\u001b[0m\u001b[1;33m]\u001b[0m\u001b[1;33m.\u001b[0m\u001b[0mastype\u001b[0m\u001b[1;33m(\u001b[0m\u001b[0mnp\u001b[0m\u001b[1;33m.\u001b[0m\u001b[0mfloat\u001b[0m\u001b[1;33m)\u001b[0m \u001b[1;33m-\u001b[0m \u001b[0mims\u001b[0m\u001b[1;33m[\u001b[0m\u001b[1;36m0\u001b[0m\u001b[1;33m:\u001b[0m\u001b[1;33m(\u001b[0m\u001b[1;33m-\u001b[0m\u001b[1;36m1\u001b[0m\u001b[1;33m*\u001b[0m\u001b[0mdt\u001b[0m\u001b[1;33m)\u001b[0m\u001b[1;33m]\u001b[0m\u001b[1;33m.\u001b[0m\u001b[0mastype\u001b[0m\u001b[1;33m(\u001b[0m\u001b[0mnp\u001b[0m\u001b[1;33m.\u001b[0m\u001b[0mfloat\u001b[0m\u001b[1;33m)\u001b[0m\u001b[1;33m\u001b[0m\u001b[0m\n\u001b[0m\u001b[0;32m    107\u001b[0m \u001b[1;33m\u001b[0m\u001b[0m\n\u001b[0;32m    108\u001b[0m         \u001b[1;31m#Rather than FT all image differences of a given lag time, only select a subset\u001b[0m\u001b[1;33m\u001b[0m\u001b[1;33m\u001b[0m\u001b[0m\n",
      "\u001b[1;31mMemoryError\u001b[0m: "
     ]
    }
   ],
   "source": []
  },
  {
   "cell_type": "code",
   "execution_count": null,
   "metadata": {},
   "outputs": [],
   "source": []
  },
  {
   "cell_type": "code",
   "execution_count": null,
   "metadata": {},
   "outputs": [],
   "source": []
  }
 ],
 "metadata": {
  "kernelspec": {
   "display_name": "Python 2",
   "language": "python",
   "name": "python2"
  },
  "language_info": {
   "codemirror_mode": {
    "name": "ipython",
    "version": 2
   },
   "file_extension": ".py",
   "mimetype": "text/x-python",
   "name": "python",
   "nbconvert_exporter": "python",
   "pygments_lexer": "ipython2",
   "version": "2.7.15"
  }
 },
 "nbformat": 4,
 "nbformat_minor": 1
}

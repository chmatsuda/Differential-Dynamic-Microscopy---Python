{
 "cells": [
  {
   "cell_type": "code",
   "execution_count": 1,
   "metadata": {},
   "outputs": [
    {
     "name": "stderr",
     "output_type": "stream",
     "text": [
      "C:\\Users\\Student\\Anaconda2\\lib\\site-packages\\IPython\\html.py:14: ShimWarning: The `IPython.html` package has been deprecated since IPython 4.0. You should import from `notebook` instead. `IPython.html.widgets` has moved to `ipywidgets`.\n",
      "  \"`IPython.html.widgets` has moved to `ipywidgets`.\", ShimWarning)\n",
      "tiff_file.py:1995: UserWarning: failed to import _tifffile.decodepackbits\n",
      "  warnings.warn(\"failed to import %s\" % module_function)\n",
      "tiff_file.py:1995: UserWarning: failed to import _tifffile.decodelzw\n",
      "  warnings.warn(\"failed to import %s\" % module_function)\n",
      "tiff_file.py:1995: UserWarning: failed to import _tifffile.unpackints\n",
      "  warnings.warn(\"failed to import %s\" % module_function)\n"
     ]
    }
   ],
   "source": [
    "#Import all of the necessary packages\n",
    "import numpy as np\n",
    "import matplotlib\n",
    "import matplotlib.pyplot as plt\n",
    "from IPython.html.widgets import interact, fixed\n",
    "import ipywidgets as widgets\n",
    "\n",
    "import io\n",
    "\n",
    "font_plt = {'family': 'serif',\n",
    "            'color':  'darkred',\n",
    "            'weight': 'normal',\n",
    "            'size': 10,\n",
    "            }\n",
    "font_plt_ax = {'family': 'serif',\n",
    "               'color':  'black',\n",
    "               'weight': 'normal',\n",
    "               'size': 10,\n",
    "              }\n",
    "import sys\n",
    "import glob #glob is helpful for searching for filenames or directories\n",
    "import ddm_clean as ddm #this is the module containing the differential dynamic microscopy code\n",
    "import scipy #scientific python\n",
    "from scipy.signal import blackmanharris as bh #for Blackman-Harris windowing\n",
    "import pickle #for saving data\n",
    "\n",
    "import mpld3"
   ]
  },
  {
   "cell_type": "code",
   "execution_count": 4,
   "metadata": {},
   "outputs": [],
   "source": [
    "##Sample = ['0.02mgmlDNA_Buffer_17.5fps_55exp_8000frames', '0.02mgmlDNA_Buffer_49fps_20exp_8000frames','0.02mgmlDNA_Buffer_99fps_10exp_8000frames']"
   ]
  },
  {
   "cell_type": "code",
   "execution_count": 3,
   "metadata": {},
   "outputs": [],
   "source": [
    "# different ROIs and the video number, change samNumber based upon the number of videos taken for the condition\n",
    "ROI = ['0', '128', '256', '384', '512', '640']\n",
    "samNumber = ['1','2']\n",
    "R1_Diff = np.zeros(len(samNumber))\n",
    "R2_Diff = np.zeros(len(samNumber))\n",
    "R1_exp = np.zeros(len(samNumber))\n",
    "R2_exp = np.zeros(len(samNumber))\n",
    "newtaus = np.zeros(len(samNumber))\n",
    "newtaustds = np.zeros(len(samNumber))\n",
    "num = 0"
   ]
  },
  {
   "cell_type": "code",
   "execution_count": 48,
   "metadata": {},
   "outputs": [],
   "source": [
    "# We only need to load this because of the dts\n",
    "data_dir = \"Z:\\\\ChristelleSummer2018\\\\Data\\\\BeadsInConditions\\\\Tubulin\\\\2018_07_05\\\\2018_07_05_Tub11fps_1\\\\\"\n",
    "filename = data_dir.split('\\\\')[-2]\n",
    "data_file = filename +\"_MMStack_Pos0.ome_\"+ROI[0]+\"_BH_128x128_FFTDIFFS_dts_ravs.p\"\n",
    "dat = pickle.load(open(data_dir + data_file,'r'))\n",
    "dts  = dat['dts']"
   ]
  },
  {
   "cell_type": "code",
   "execution_count": 49,
   "metadata": {},
   "outputs": [],
   "source": [
    "newt = lambda t,s: (1./s)*gamma(1./s)*t\n",
    "framerate = 11.0\n",
    "px = 0.189\n",
    "imDimension = 128\n",
    "q = np.arange(0,imDimension/2)*2*np.pi*(1./(imDimension*px))\n",
    "times = dts/framerate"
   ]
  },
  {
   "cell_type": "code",
   "execution_count": 51,
   "metadata": {},
   "outputs": [],
   "source": [
    "ss = 0\n",
    "#Load in the allResults file  \n",
    "data_file = \"AllResults.p\"\n",
    "\n",
    "Ana_data = pickle.load(open(data_dir + data_file, 'r'))"
   ]
  },
  {
   "cell_type": "code",
   "execution_count": 52,
   "metadata": {},
   "outputs": [
    {
     "name": "stdout",
     "output_type": "stream",
     "text": [
      "[[0.00000000e+00 0.00000000e+00 0.00000000e+00 0.00000000e+00\n",
      "  0.00000000e+00 0.00000000e+00 0.00000000e+00]\n",
      " [1.87552236e+03 8.05739286e+00 1.00000000e+02 7.64495965e-01\n",
      "  0.00000000e+00 8.00000000e-01 1.00000000e+00]\n",
      " [1.74606590e+03 1.62361608e+01 1.00000000e+02 9.81864397e-01\n",
      "  0.00000000e+00 8.00000000e-01 1.00000000e+00]\n",
      " [2.47059496e+03 2.83496467e+01 5.00000000e+00 5.41356310e-01\n",
      "  0.00000000e+00 8.00000000e-01 1.00000000e+00]\n",
      " [1.81986243e+03 1.49007605e+01 5.00000000e+00 3.47434532e-01\n",
      "  0.00000000e+00 8.00000000e-01 1.00000000e+00]\n",
      " [1.13743142e+03 6.78518896e+00 5.00000000e+00 5.69763972e-01\n",
      "  0.00000000e+00 8.00000000e-01 1.00000000e+00]\n",
      " [7.99260223e+02 4.50858145e+00 3.64814298e+01 6.38382462e-01\n",
      "  0.00000000e+00 8.00000000e-01 1.00000000e+00]\n",
      " [5.71716665e+02 3.58550967e+00 6.84107740e+01 6.99953029e-01\n",
      "  0.00000000e+00 8.00000000e-01 1.00000000e+00]\n",
      " [4.24466681e+02 2.88320771e+00 6.97735609e+01 6.91670305e-01\n",
      "  0.00000000e+00 8.00000000e-01 1.00000000e+00]\n",
      " [3.05528857e+02 1.90320529e+00 5.97873293e+01 6.66663849e-01\n",
      "  0.00000000e+00 8.00000000e-01 1.00000000e+00]\n",
      " [2.82371628e+02 9.44668485e-01 5.00000000e+00 4.61227455e-01\n",
      "  0.00000000e+00 8.00000000e-01 1.00000000e+00]\n",
      " [2.24111635e+02 5.96670376e-01 5.43690005e+00 4.32894595e-01\n",
      "  0.00000000e+00 8.00000000e-01 1.00000000e+00]\n",
      " [1.57899240e+02 5.03043051e-01 3.11350882e+01 4.78913965e-01\n",
      "  0.00000000e+00 8.00000000e-01 1.00000000e+00]\n",
      " [1.21370656e+02 3.77842445e-01 3.87396739e+01 4.61121755e-01\n",
      "  0.00000000e+00 8.00000000e-01 1.00000000e+00]\n",
      " [1.31952658e+02 1.31100918e-01 9.08480193e+00 3.51485819e-01\n",
      "  0.00000000e+00 8.00000000e-01 1.00000000e+00]\n",
      " [6.19022064e+01 3.60213882e-01 6.36194329e+01 5.25018679e-01\n",
      "  0.00000000e+00 8.00000000e-01 1.00000000e+00]\n",
      " [3.01409052e+01 5.53607433e-01 8.17877778e+01 8.45494259e-01\n",
      "  0.00000000e+00 8.00000000e-01 1.00000000e+00]\n",
      " [1.00084650e+02 3.21633447e-02 5.00000000e+00 3.00000000e-01\n",
      "  0.00000000e+00 8.00000000e-01 1.00000000e+00]\n",
      " [9.30958130e+01 1.56838507e-02 5.06371694e+00 3.12516387e-01\n",
      "  0.00000000e+00 8.00000000e-01 1.00000000e+00]\n",
      " [2.95312885e+00 1.34435784e+02 9.37827397e+01 1.00000000e+00\n",
      "  0.00000000e+00 8.00000000e-01 1.00000000e+00]\n",
      " [7.18241630e+00 2.52661814e+02 9.00723473e+01 1.00000000e+00\n",
      "  0.00000000e+00 8.00000000e-01 1.00000000e+00]\n",
      " [1.25199299e+00 5.51406177e+01 8.80743759e+01 1.00000000e+00\n",
      "  0.00000000e+00 8.00000000e-01 1.00000000e+00]\n",
      " [5.91494726e+00 1.19222709e+02 8.61547620e+01 9.19771320e-01\n",
      "  0.00000000e+00 8.00000000e-01 1.00000000e+00]\n",
      " [3.70515215e+00 1.80791727e+02 8.62540210e+01 1.00000000e+00\n",
      "  0.00000000e+00 8.00000000e-01 1.00000000e+00]\n",
      " [1.82937334e+01 7.00000000e+02 8.18574556e+01 8.84712550e-01\n",
      "  0.00000000e+00 8.00000000e-01 1.00000000e+00]\n",
      " [0.00000000e+00 4.76631825e+00 8.43494809e+01 9.44864380e-01\n",
      "  0.00000000e+00 8.00000000e-01 1.00000000e+00]\n",
      " [0.00000000e+00 3.17382899e+01 8.39218954e+01 9.87438244e-01\n",
      "  0.00000000e+00 8.00000000e-01 1.00000000e+00]\n",
      " [0.00000000e+00 6.15761258e+02 8.41996673e+01 9.00776387e-01\n",
      "  0.00000000e+00 8.00000000e-01 1.00000000e+00]\n",
      " [0.00000000e+00 5.88984499e+02 8.46667289e+01 8.89555828e-01\n",
      "  0.00000000e+00 8.00000000e-01 1.00000000e+00]\n",
      " [1.97458159e+00 2.57365364e+02 8.48457787e+01 9.31071398e-01\n",
      "  0.00000000e+00 8.00000000e-01 1.00000000e+00]\n",
      " [1.67577419e+00 2.07796605e+02 8.42553460e+01 9.87152612e-01\n",
      "  0.00000000e+00 8.00000000e-01 1.00000000e+00]\n",
      " [3.92791944e+00 3.21446185e+02 8.39524547e+01 8.03329731e-01\n",
      "  0.00000000e+00 8.00000000e-01 1.00000000e+00]\n",
      " [0.00000000e+00 8.24360028e+01 8.33731963e+01 3.47876481e-01\n",
      "  0.00000000e+00 8.00000000e-01 1.00000000e+00]\n",
      " [0.00000000e+00 5.94293934e+02 8.31460577e+01 9.02200488e-01\n",
      "  0.00000000e+00 8.00000000e-01 1.00000000e+00]\n",
      " [0.00000000e+00 6.05537699e+02 8.35144076e+01 9.01305480e-01\n",
      "  0.00000000e+00 8.00000000e-01 1.00000000e+00]\n",
      " [0.00000000e+00 6.21163661e+02 8.37328508e+01 9.00619185e-01\n",
      "  0.00000000e+00 8.00000000e-01 1.00000000e+00]\n",
      " [0.00000000e+00 6.23591866e+02 8.34396376e+01 8.99908041e-01\n",
      "  0.00000000e+00 8.00000000e-01 1.00000000e+00]\n",
      " [0.00000000e+00 6.26029609e+02 8.36048616e+01 8.99973667e-01\n",
      "  0.00000000e+00 8.00000000e-01 1.00000000e+00]\n",
      " [0.00000000e+00 7.95805439e+01 8.42134146e+01 3.00000000e-01\n",
      "  0.00000000e+00 8.00000000e-01 1.00000000e+00]\n",
      " [1.86728633e+00 3.04094365e+02 8.41793302e+01 1.00000000e+00\n",
      "  0.00000000e+00 8.00000000e-01 1.00000000e+00]\n",
      " [1.60778183e+00 7.00000000e+02 8.46129492e+01 6.01275248e-01\n",
      "  0.00000000e+00 8.00000000e-01 1.00000000e+00]\n",
      " [0.00000000e+00 1.07420316e+02 8.43249425e+01 3.00000000e-01\n",
      "  0.00000000e+00 8.00000000e-01 1.00000000e+00]\n",
      " [9.76622019e-01 2.81099910e+02 8.43845643e+01 1.00000000e+00\n",
      "  0.00000000e+00 8.00000000e-01 1.00000000e+00]\n",
      " [1.98769628e+00 1.87256745e+02 8.44154853e+01 9.07337917e-01\n",
      "  0.00000000e+00 8.00000000e-01 1.00000000e+00]\n",
      " [3.97844191e+00 7.00000000e+02 8.29117784e+01 3.67822137e-01\n",
      "  0.00000000e+00 8.00000000e-01 1.00000000e+00]\n",
      " [0.00000000e+00 6.20417656e+02 8.38142280e+01 8.99643498e-01\n",
      "  0.00000000e+00 8.00000000e-01 1.00000000e+00]\n",
      " [0.00000000e+00 6.22968787e+02 8.41939236e+01 9.00205356e-01\n",
      "  0.00000000e+00 8.00000000e-01 1.00000000e+00]\n",
      " [7.91999645e-02 3.56508694e+01 8.42586761e+01 1.00000000e+00\n",
      "  0.00000000e+00 8.00000000e-01 1.00000000e+00]\n",
      " [1.11088072e+00 1.00000000e-06 8.30792972e+01 5.06987310e-01\n",
      "  0.00000000e+00 8.00000000e-01 1.00000000e+00]\n",
      " [0.00000000e+00 4.22564363e+02 8.40098600e+01 9.01491497e-01\n",
      "  0.00000000e+00 8.00000000e-01 1.00000000e+00]\n",
      " [0.00000000e+00 6.18747316e+02 8.39178414e+01 9.01081985e-01\n",
      "  0.00000000e+00 8.00000000e-01 1.00000000e+00]\n",
      " [0.00000000e+00 5.17777727e+02 8.39077160e+01 4.63513835e-01\n",
      "  0.00000000e+00 8.00000000e-01 1.00000000e+00]\n",
      " [0.00000000e+00 8.68347813e+01 8.37617475e+01 1.00000000e+00\n",
      "  0.00000000e+00 8.00000000e-01 1.00000000e+00]\n",
      " [0.00000000e+00 6.17450187e+02 8.37332609e+01 9.01052340e-01\n",
      "  0.00000000e+00 8.00000000e-01 1.00000000e+00]\n",
      " [0.00000000e+00 6.02986382e+02 8.41610196e+01 9.01996198e-01\n",
      "  0.00000000e+00 8.00000000e-01 1.00000000e+00]\n",
      " [4.78140193e+00 6.98459503e+02 8.44325387e+01 9.17781641e-01\n",
      "  0.00000000e+00 8.00000000e-01 1.00000000e+00]\n",
      " [1.40963082e+02 7.00000000e+02 7.03610791e+01 8.97113826e-01\n",
      "  0.00000000e+00 8.00000000e-01 1.00000000e+00]\n",
      " [1.86158147e+00 2.02822319e+02 8.40578750e+01 1.00000000e+00\n",
      "  0.00000000e+00 8.00000000e-01 1.00000000e+00]\n",
      " [2.34723191e-01 1.26642680e+02 8.39897807e+01 3.00000000e-01\n",
      "  0.00000000e+00 8.00000000e-01 1.00000000e+00]\n",
      " [1.75523115e+00 2.76518001e+02 8.51684609e+01 1.00000000e+00\n",
      "  0.00000000e+00 8.00000000e-01 1.00000000e+00]\n",
      " [4.20663311e+00 2.24246677e+02 8.51185368e+01 9.63934060e-01\n",
      "  0.00000000e+00 8.00000000e-01 1.00000000e+00]\n",
      " [1.87523110e+01 7.51278383e+01 7.51442022e+01 3.00000000e-01\n",
      "  0.00000000e+00 8.00000000e-01 1.00000000e+00]\n",
      " [0.00000000e+00 1.43025489e+02 8.43853821e+01 1.00000000e+00\n",
      "  0.00000000e+00 8.00000000e-01 1.00000000e+00]]\n"
     ]
    }
   ],
   "source": [
    "print Ana_data['fitparams256']"
   ]
  },
  {
   "cell_type": "code",
   "execution_count": 53,
   "metadata": {},
   "outputs": [
    {
     "data": {
      "text/plain": [
       "(0.9, 15)"
      ]
     },
     "execution_count": 53,
     "metadata": {},
     "output_type": "execute_result"
    },
    {
     "data": {
      "image/png": "[encoded data removed]",
      "text/html": [
       "\n",
       "\n",
       "<style>\n",
       "\n",
       "</style>\n",
       "\n",
       "<div id=\"fig_el34201834440884922372407\"></div>\n",
       "<script>\n",
       "function mpld3_load_lib(url, callback){\n",
       "  var s = document.createElement('script');\n",
       "  s.src = url;\n",
       "  s.async = true;\n",
       "  s.onreadystatechange = s.onload = callback;\n",
       "  s.onerror = function(){console.warn(\"failed to load library \" + url);};\n",
       "  document.getElementsByTagName(\"head\")[0].appendChild(s);\n",
       "}\n",
       "\n",
       "if(typeof(mpld3) !== \"undefined\" && mpld3._mpld3IsLoaded){\n",
       "   // already loaded: just create the figure\n",
       "   !function(mpld3){\n",
       "       \n",
       "       mpld3.draw_figure(\"fig_el34201834440884922372407\", {\"axes\": [{\"xlim\": [0.9, 15.0], \"yscale\": \"log\", \"axesbg\": \"#FFFFFF\", \"texts\": [{\"v_baseline\": \"hanging\", \"h_anchor\": \"middle\", \"color\": \"#000000\", \"text\": \"q\", \"coordinates\": \"axes\", \"zorder\": 3, \"alpha\": 1, \"fontsize\": 10.0, \"position\": [0.5, -0.09227005150846211], \"rotation\": -0.0, \"id\": \"el3420199423312\"}], \"zoomable\": true, \"images\": [], \"xdomain\": [0.9, 15.0], \"ylim\": [3.57330603730737e-07, 4711.49091508577], \"paths\": [], \"sharey\": [], \"sharex\": [], \"axesbgalpha\": null, \"axes\": [{\"scale\": \"log\", \"tickformat\": null, \"grid\": {\"gridOn\": false}, \"visible\": true, \"fontsize\": 10.0, \"position\": \"bottom\", \"nticks\": 6, \"tickvalues\": null}, {\"scale\": \"log\", \"tickformat\": null, \"grid\": {\"gridOn\": false}, \"visible\": true, \"fontsize\": 10.0, \"position\": \"left\", \"nticks\": 9, \"tickvalues\": null}], \"lines\": [], \"markers\": [{\"edgecolor\": \"#0000FF\", \"facecolor\": \"#0000FF\", \"edgewidth\": 1.0, \"yindex\": 1, \"coordinates\": \"data\", \"zorder\": 2, \"markerpath\": [[[0.0, 3.0], [0.7956093000000001, 3.0], [1.5587396123545605, 2.683901074764725], [2.121320343559643, 2.121320343559643], [2.683901074764725, 1.5587396123545605], [3.0, 0.7956093000000001], [3.0, 0.0], [3.0, -0.7956093000000001], [2.683901074764725, -1.5587396123545605], [2.121320343559643, -2.121320343559643], [1.5587396123545605, -2.683901074764725], [0.7956093000000001, -3.0], [0.0, -3.0], [-0.7956093000000001, -3.0], [-1.5587396123545605, -2.683901074764725], [-2.121320343559643, -2.121320343559643], [-2.683901074764725, -1.5587396123545605], [-3.0, -0.7956093000000001], [-3.0, 0.0], [-3.0, 0.7956093000000001], [-2.683901074764725, 1.5587396123545605], [-2.121320343559643, 2.121320343559643], [-1.5587396123545605, 2.683901074764725], [-0.7956093000000001, 3.0], [0.0, 3.0]], [\"M\", \"C\", \"C\", \"C\", \"C\", \"C\", \"C\", \"C\", \"C\", \"Z\"]], \"alpha\": 1, \"xindex\": 0, \"data\": \"data01\", \"id\": \"el3420202968032pts\"}, {\"edgecolor\": \"#0000FF\", \"facecolor\": \"#0000FF\", \"edgewidth\": 1.0, \"yindex\": 2, \"coordinates\": \"data\", \"zorder\": 2, \"markerpath\": [[[0.0, 3.0], [0.7956093000000001, 3.0], [1.5587396123545605, 2.683901074764725], [2.121320343559643, 2.121320343559643], [2.683901074764725, 1.5587396123545605], [3.0, 0.7956093000000001], [3.0, 0.0], [3.0, -0.7956093000000001], [2.683901074764725, -1.5587396123545605], [2.121320343559643, -2.121320343559643], [1.5587396123545605, -2.683901074764725], [0.7956093000000001, -3.0], [0.0, -3.0], [-0.7956093000000001, -3.0], [-1.5587396123545605, -2.683901074764725], [-2.121320343559643, -2.121320343559643], [-2.683901074764725, -1.5587396123545605], [-3.0, -0.7956093000000001], [-3.0, 0.0], [-3.0, 0.7956093000000001], [-2.683901074764725, 1.5587396123545605], [-2.121320343559643, 2.121320343559643], [-1.5587396123545605, 2.683901074764725], [-0.7956093000000001, 3.0], [0.0, 3.0]], [\"M\", \"C\", \"C\", \"C\", \"C\", \"C\", \"C\", \"C\", \"C\", \"Z\"]], \"alpha\": 1, \"xindex\": 0, \"data\": \"data01\", \"id\": \"el3420199423984pts\"}, {\"edgecolor\": \"#0000FF\", \"facecolor\": \"#0000FF\", \"edgewidth\": 1.0, \"yindex\": 3, \"coordinates\": \"data\", \"zorder\": 2, \"markerpath\": [[[0.0, 3.0], [0.7956093000000001, 3.0], [1.5587396123545605, 2.683901074764725], [2.121320343559643, 2.121320343559643], [2.683901074764725, 1.5587396123545605], [3.0, 0.7956093000000001], [3.0, 0.0], [3.0, -0.7956093000000001], [2.683901074764725, -1.5587396123545605], [2.121320343559643, -2.121320343559643], [1.5587396123545605, -2.683901074764725], [0.7956093000000001, -3.0], [0.0, -3.0], [-0.7956093000000001, -3.0], [-1.5587396123545605, -2.683901074764725], [-2.121320343559643, -2.121320343559643], [-2.683901074764725, -1.5587396123545605], [-3.0, -0.7956093000000001], [-3.0, 0.0], [-3.0, 0.7956093000000001], [-2.683901074764725, 1.5587396123545605], [-2.121320343559643, 2.121320343559643], [-1.5587396123545605, 2.683901074764725], [-0.7956093000000001, 3.0], [0.0, 3.0]], [\"M\", \"C\", \"C\", \"C\", \"C\", \"C\", \"C\", \"C\", \"C\", \"Z\"]], \"alpha\": 1, \"xindex\": 0, \"data\": \"data01\", \"id\": \"el3420199424656pts\"}, {\"edgecolor\": \"#0000FF\", \"facecolor\": \"#0000FF\", \"edgewidth\": 1.0, \"yindex\": 4, \"coordinates\": \"data\", \"zorder\": 2, \"markerpath\": [[[0.0, 3.0], [0.7956093000000001, 3.0], [1.5587396123545605, 2.683901074764725], [2.121320343559643, 2.121320343559643], [2.683901074764725, 1.5587396123545605], [3.0, 0.7956093000000001], [3.0, 0.0], [3.0, -0.7956093000000001], [2.683901074764725, -1.5587396123545605], [2.121320343559643, -2.121320343559643], [1.5587396123545605, -2.683901074764725], [0.7956093000000001, -3.0], [0.0, -3.0], [-0.7956093000000001, -3.0], [-1.5587396123545605, -2.683901074764725], [-2.121320343559643, -2.121320343559643], [-2.683901074764725, -1.5587396123545605], [-3.0, -0.7956093000000001], [-3.0, 0.0], [-3.0, 0.7956093000000001], [-2.683901074764725, 1.5587396123545605], [-2.121320343559643, 2.121320343559643], [-1.5587396123545605, 2.683901074764725], [-0.7956093000000001, 3.0], [0.0, 3.0]], [\"M\", \"C\", \"C\", \"C\", \"C\", \"C\", \"C\", \"C\", \"C\", \"Z\"]], \"alpha\": 1, \"xindex\": 0, \"data\": \"data01\", \"id\": \"el3420199423760pts\"}, {\"edgecolor\": \"#0000FF\", \"facecolor\": \"#0000FF\", \"edgewidth\": 1.0, \"yindex\": 5, \"coordinates\": \"data\", \"zorder\": 2, \"markerpath\": [[[0.0, 3.0], [0.7956093000000001, 3.0], [1.5587396123545605, 2.683901074764725], [2.121320343559643, 2.121320343559643], [2.683901074764725, 1.5587396123545605], [3.0, 0.7956093000000001], [3.0, 0.0], [3.0, -0.7956093000000001], [2.683901074764725, -1.5587396123545605], [2.121320343559643, -2.121320343559643], [1.5587396123545605, -2.683901074764725], [0.7956093000000001, -3.0], [0.0, -3.0], [-0.7956093000000001, -3.0], [-1.5587396123545605, -2.683901074764725], [-2.121320343559643, -2.121320343559643], [-2.683901074764725, -1.5587396123545605], [-3.0, -0.7956093000000001], [-3.0, 0.0], [-3.0, 0.7956093000000001], [-2.683901074764725, 1.5587396123545605], [-2.121320343559643, 2.121320343559643], [-1.5587396123545605, 2.683901074764725], [-0.7956093000000001, 3.0], [0.0, 3.0]], [\"M\", \"C\", \"C\", \"C\", \"C\", \"C\", \"C\", \"C\", \"C\", \"Z\"]], \"alpha\": 1, \"xindex\": 0, \"data\": \"data01\", \"id\": \"el3420199425160pts\"}, {\"edgecolor\": \"#0000FF\", \"facecolor\": \"#0000FF\", \"edgewidth\": 1.0, \"yindex\": 6, \"coordinates\": \"data\", \"zorder\": 2, \"markerpath\": [[[0.0, 3.0], [0.7956093000000001, 3.0], [1.5587396123545605, 2.683901074764725], [2.121320343559643, 2.121320343559643], [2.683901074764725, 1.5587396123545605], [3.0, 0.7956093000000001], [3.0, 0.0], [3.0, -0.7956093000000001], [2.683901074764725, -1.5587396123545605], [2.121320343559643, -2.121320343559643], [1.5587396123545605, -2.683901074764725], [0.7956093000000001, -3.0], [0.0, -3.0], [-0.7956093000000001, -3.0], [-1.5587396123545605, -2.683901074764725], [-2.121320343559643, -2.121320343559643], [-2.683901074764725, -1.5587396123545605], [-3.0, -0.7956093000000001], [-3.0, 0.0], [-3.0, 0.7956093000000001], [-2.683901074764725, 1.5587396123545605], [-2.121320343559643, 2.121320343559643], [-1.5587396123545605, 2.683901074764725], [-0.7956093000000001, 3.0], [0.0, 3.0]], [\"M\", \"C\", \"C\", \"C\", \"C\", \"C\", \"C\", \"C\", \"C\", \"Z\"]], \"alpha\": 1, \"xindex\": 0, \"data\": \"data01\", \"id\": \"el3420199536880pts\"}, {\"edgecolor\": \"#0000FF\", \"facecolor\": \"#0000FF\", \"edgewidth\": 1.0, \"yindex\": 7, \"coordinates\": \"data\", \"zorder\": 2, \"markerpath\": [[[0.0, 3.0], [0.7956093000000001, 3.0], [1.5587396123545605, 2.683901074764725], [2.121320343559643, 2.121320343559643], [2.683901074764725, 1.5587396123545605], [3.0, 0.7956093000000001], [3.0, 0.0], [3.0, -0.7956093000000001], [2.683901074764725, -1.5587396123545605], [2.121320343559643, -2.121320343559643], [1.5587396123545605, -2.683901074764725], [0.7956093000000001, -3.0], [0.0, -3.0], [-0.7956093000000001, -3.0], [-1.5587396123545605, -2.683901074764725], [-2.121320343559643, -2.121320343559643], [-2.683901074764725, -1.5587396123545605], [-3.0, -0.7956093000000001], [-3.0, 0.0], [-3.0, 0.7956093000000001], [-2.683901074764725, 1.5587396123545605], [-2.121320343559643, 2.121320343559643], [-1.5587396123545605, 2.683901074764725], [-0.7956093000000001, 3.0], [0.0, 3.0]], [\"M\", \"C\", \"C\", \"C\", \"C\", \"C\", \"C\", \"C\", \"C\", \"Z\"]], \"alpha\": 1, \"xindex\": 0, \"data\": \"data01\", \"id\": \"el3420199537832pts\"}, {\"edgecolor\": \"#FF0000\", \"facecolor\": \"#FF0000\", \"edgewidth\": 1.0, \"yindex\": 8, \"coordinates\": \"data\", \"zorder\": 2, \"markerpath\": [[[-3.6739403974420594e-16, 3.0], [3.0000000000000004, -2.9999999999999996], [-2.9999999999999996, -3.0000000000000004]], [\"M\", \"L\", \"L\", \"Z\"]], \"alpha\": 1, \"xindex\": 0, \"data\": \"data01\", \"id\": \"el3420199538672pts\"}], \"id\": \"el3420195857432\", \"ydomain\": [3.57330603730737e-07, 4711.49091508577], \"collections\": [], \"xscale\": \"log\", \"bbox\": [0.125, 0.125, 0.775, 0.755]}], \"height\": 355.9950556242274, \"width\": 576.0, \"plugins\": [{\"type\": \"reset\"}, {\"enabled\": false, \"button\": true, \"type\": \"zoom\"}, {\"enabled\": false, \"button\": true, \"type\": \"boxzoom\"}], \"data\": {\"data01\": [[0.7791648446403256, 735.265568551728, 31.98963642189075, 16.365239856287502, NaN, NaN, NaN, NaN, NaN], [1.0388864595204343, 1633.6324496772972, 53.107488655310775, 49.47540586640328, NaN, NaN, NaN, NaN, NaN], [1.2986080744005428, 831.7350216513331, 29.70897916176924, 76.8884262998987, NaN, NaN, NaN, NaN, NaN], [1.5583296892806513, 805.2146137870005, 13.236701528146575, 10.958871879432076, NaN, NaN, NaN, NaN, NaN], [1.81805130416076, 1215.9135890634134, 8.713918539246452, 6.28690004221225, NaN, NaN, NaN, NaN, NaN], [2.0777729190408687, 1582.4256413198402, 9.468170263249817, 4.538912878524241, NaN, NaN, NaN, NaN, NaN], [2.337494533920977, 12.704970209048836, 0.5660144859394581, 3.692062667817727, NaN, NaN, NaN, NaN, NaN], [2.5972161488010856, 196.2942883535446, 0.09299054922468862, 2.5300189364466408, NaN, NaN, NaN, NaN, NaN], [2.856937763681194, 8.146359348468225, 2.224051145986035, 2.218508342100837, NaN, NaN, NaN, NaN, NaN], [3.1166593785613026, 1.1305863609267526, 1.8452712492110317, 1.6178633441357682, NaN, NaN, NaN, NaN, NaN], [3.3763809934414115, 10.663854125247603, 0.4005055300634537, 1.092905649661108, NaN, NaN, NaN, NaN, NaN], [3.63610260832152, 49.34778523817675, 9.260528268125549e-06, 0.8877801958516243, NaN, NaN, NaN, NaN, NaN], [3.895824223201628, 57.102946370044585, 0.4632145128294855, 0.6497369271215747, NaN, NaN, NaN, NaN, NaN], [4.155545838081737, 782.408280441181, 0.7836346474386215, 0.6609741187948712, NaN, NaN, NaN, NaN, NaN], [4.415267452961846, 1074.4693971975037, 0.5711641449357149, 0.6043143355438949, NaN, NaN, NaN, NaN, NaN], [4.674989067841954, 239.17762200134513, 0.46628186229475244, 0.297849562699659, NaN, NaN, NaN, NaN, NaN], [4.934710682722063, 726.0958612532737, 0.2921387975046245, 0.12162799483111328, NaN, NaN, NaN, NaN, NaN], [5.194432297602171, 209.37301981330276, 0.22653476922632787, 134.43578369903594, NaN, NaN, NaN, NaN, NaN], [5.45415391248228, 86.81416825525666, 341.64525945675155, 252.66181442255817, NaN, NaN, NaN, NaN, NaN], [5.713875527362388, 2.566140380719734e-06, 40.56621957785092, 55.14061770646901, NaN, NaN, NaN, NaN, NaN], [5.973597142242497, 166.25515179889635, 722.0702459589924, 123.99996804454095, NaN, NaN, NaN, NaN, NaN], [6.233318757122605, 737.5964235097858, 98.84419112346535, 180.791727307073, NaN, NaN, NaN, NaN, NaN], [6.4930403720027146, 246.41422607739523, 62.12295659233116, 743.6020628703077, NaN, NaN, NaN, NaN, NaN], [6.752761986882823, 297.5256780440088, 77.58621645107748, 4.890672087640431, NaN, NaN, NaN, NaN, NaN], [7.012483601762931, 261.064984691224, 433.83325192014695, 31.911114318137212, NaN, NaN, NaN, NaN, NaN], [7.27220521664304, 343.17021075320787, 1.0305622256046913e-06, 647.5889147131003, NaN, NaN, NaN, NaN, NaN], [7.5319268315231485, 90.93033521013757, 41.23217070527537, 623.7426507248107, NaN, NaN, NaN, NaN, NaN], [7.791648446403256, 89.01590819644044, 221.72264743422411, 266.01074085906527, NaN, NaN, NaN, NaN, NaN], [8.051370061283365, 70.37189608582389, 197.58211349322417, 208.95451061577742, NaN, NaN, NaN, NaN, NaN], [8.311091676163475, 623.4901876727432, 304.6390795621587, 363.1234649949068, NaN, NaN, NaN, NaN, NaN], [8.570813291043583, 11.431508070328036, 426.73606383603993, 423.47854149246814, NaN, NaN, NaN, NaN, NaN]]}, \"id\": \"el3420183444088\"});\n",
       "   }(mpld3);\n",
       "}else if(typeof define === \"function\" && define.amd){\n",
       "   // require.js is available: use it to load d3/mpld3\n",
       "   require.config({paths: {d3: \"https://mpld3.github.io/js/d3.v3.min\"}});\n",
       "   require([\"d3\"], function(d3){\n",
       "      window.d3 = d3;\n",
       "      mpld3_load_lib(\"https://mpld3.github.io/js/mpld3.v0.3.js\", function(){\n",
       "         \n",
       "         mpld3.draw_figure(\"fig_el34201834440884922372407\", {\"axes\": [{\"xlim\": [0.9, 15.0], \"yscale\": \"log\", \"axesbg\": \"#FFFFFF\", \"texts\": [{\"v_baseline\": \"hanging\", \"h_anchor\": \"middle\", \"color\": \"#000000\", \"text\": \"q\", \"coordinates\": \"axes\", \"zorder\": 3, \"alpha\": 1, \"fontsize\": 10.0, \"position\": [0.5, -0.09227005150846211], \"rotation\": -0.0, \"id\": \"el3420199423312\"}], \"zoomable\": true, \"images\": [], \"xdomain\": [0.9, 15.0], \"ylim\": [3.57330603730737e-07, 4711.49091508577], \"paths\": [], \"sharey\": [], \"sharex\": [], \"axesbgalpha\": null, \"axes\": [{\"scale\": \"log\", \"tickformat\": null, \"grid\": {\"gridOn\": false}, \"visible\": true, \"fontsize\": 10.0, \"position\": \"bottom\", \"nticks\": 6, \"tickvalues\": null}, {\"scale\": \"log\", \"tickformat\": null, \"grid\": {\"gridOn\": false}, \"visible\": true, \"fontsize\": 10.0, \"position\": \"left\", \"nticks\": 9, \"tickvalues\": null}], \"lines\": [], \"markers\": [{\"edgecolor\": \"#0000FF\", \"facecolor\": \"#0000FF\", \"edgewidth\": 1.0, \"yindex\": 1, \"coordinates\": \"data\", \"zorder\": 2, \"markerpath\": [[[0.0, 3.0], [0.7956093000000001, 3.0], [1.5587396123545605, 2.683901074764725], [2.121320343559643, 2.121320343559643], [2.683901074764725, 1.5587396123545605], [3.0, 0.7956093000000001], [3.0, 0.0], [3.0, -0.7956093000000001], [2.683901074764725, -1.5587396123545605], [2.121320343559643, -2.121320343559643], [1.5587396123545605, -2.683901074764725], [0.7956093000000001, -3.0], [0.0, -3.0], [-0.7956093000000001, -3.0], [-1.5587396123545605, -2.683901074764725], [-2.121320343559643, -2.121320343559643], [-2.683901074764725, -1.5587396123545605], [-3.0, -0.7956093000000001], [-3.0, 0.0], [-3.0, 0.7956093000000001], [-2.683901074764725, 1.5587396123545605], [-2.121320343559643, 2.121320343559643], [-1.5587396123545605, 2.683901074764725], [-0.7956093000000001, 3.0], [0.0, 3.0]], [\"M\", \"C\", \"C\", \"C\", \"C\", \"C\", \"C\", \"C\", \"C\", \"Z\"]], \"alpha\": 1, \"xindex\": 0, \"data\": \"data01\", \"id\": \"el3420202968032pts\"}, {\"edgecolor\": \"#0000FF\", \"facecolor\": \"#0000FF\", \"edgewidth\": 1.0, \"yindex\": 2, \"coordinates\": \"data\", \"zorder\": 2, \"markerpath\": [[[0.0, 3.0], [0.7956093000000001, 3.0], [1.5587396123545605, 2.683901074764725], [2.121320343559643, 2.121320343559643], [2.683901074764725, 1.5587396123545605], [3.0, 0.7956093000000001], [3.0, 0.0], [3.0, -0.7956093000000001], [2.683901074764725, -1.5587396123545605], [2.121320343559643, -2.121320343559643], [1.5587396123545605, -2.683901074764725], [0.7956093000000001, -3.0], [0.0, -3.0], [-0.7956093000000001, -3.0], [-1.5587396123545605, -2.683901074764725], [-2.121320343559643, -2.121320343559643], [-2.683901074764725, -1.5587396123545605], [-3.0, -0.7956093000000001], [-3.0, 0.0], [-3.0, 0.7956093000000001], [-2.683901074764725, 1.5587396123545605], [-2.121320343559643, 2.121320343559643], [-1.5587396123545605, 2.683901074764725], [-0.7956093000000001, 3.0], [0.0, 3.0]], [\"M\", \"C\", \"C\", \"C\", \"C\", \"C\", \"C\", \"C\", \"C\", \"Z\"]], \"alpha\": 1, \"xindex\": 0, \"data\": \"data01\", \"id\": \"el3420199423984pts\"}, {\"edgecolor\": \"#0000FF\", \"facecolor\": \"#0000FF\", \"edgewidth\": 1.0, \"yindex\": 3, \"coordinates\": \"data\", \"zorder\": 2, \"markerpath\": [[[0.0, 3.0], [0.7956093000000001, 3.0], [1.5587396123545605, 2.683901074764725], [2.121320343559643, 2.121320343559643], [2.683901074764725, 1.5587396123545605], [3.0, 0.7956093000000001], [3.0, 0.0], [3.0, -0.7956093000000001], [2.683901074764725, -1.5587396123545605], [2.121320343559643, -2.121320343559643], [1.5587396123545605, -2.683901074764725], [0.7956093000000001, -3.0], [0.0, -3.0], [-0.7956093000000001, -3.0], [-1.5587396123545605, -2.683901074764725], [-2.121320343559643, -2.121320343559643], [-2.683901074764725, -1.5587396123545605], [-3.0, -0.7956093000000001], [-3.0, 0.0], [-3.0, 0.7956093000000001], [-2.683901074764725, 1.5587396123545605], [-2.121320343559643, 2.121320343559643], [-1.5587396123545605, 2.683901074764725], [-0.7956093000000001, 3.0], [0.0, 3.0]], [\"M\", \"C\", \"C\", \"C\", \"C\", \"C\", \"C\", \"C\", \"C\", \"Z\"]], \"alpha\": 1, \"xindex\": 0, \"data\": \"data01\", \"id\": \"el3420199424656pts\"}, {\"edgecolor\": \"#0000FF\", \"facecolor\": \"#0000FF\", \"edgewidth\": 1.0, \"yindex\": 4, \"coordinates\": \"data\", \"zorder\": 2, \"markerpath\": [[[0.0, 3.0], [0.7956093000000001, 3.0], [1.5587396123545605, 2.683901074764725], [2.121320343559643, 2.121320343559643], [2.683901074764725, 1.5587396123545605], [3.0, 0.7956093000000001], [3.0, 0.0], [3.0, -0.7956093000000001], [2.683901074764725, -1.5587396123545605], [2.121320343559643, -2.121320343559643], [1.5587396123545605, -2.683901074764725], [0.7956093000000001, -3.0], [0.0, -3.0], [-0.7956093000000001, -3.0], [-1.5587396123545605, -2.683901074764725], [-2.121320343559643, -2.121320343559643], [-2.683901074764725, -1.5587396123545605], [-3.0, -0.7956093000000001], [-3.0, 0.0], [-3.0, 0.7956093000000001], [-2.683901074764725, 1.5587396123545605], [-2.121320343559643, 2.121320343559643], [-1.5587396123545605, 2.683901074764725], [-0.7956093000000001, 3.0], [0.0, 3.0]], [\"M\", \"C\", \"C\", \"C\", \"C\", \"C\", \"C\", \"C\", \"C\", \"Z\"]], \"alpha\": 1, \"xindex\": 0, \"data\": \"data01\", \"id\": \"el3420199423760pts\"}, {\"edgecolor\": \"#0000FF\", \"facecolor\": \"#0000FF\", \"edgewidth\": 1.0, \"yindex\": 5, \"coordinates\": \"data\", \"zorder\": 2, \"markerpath\": [[[0.0, 3.0], [0.7956093000000001, 3.0], [1.5587396123545605, 2.683901074764725], [2.121320343559643, 2.121320343559643], [2.683901074764725, 1.5587396123545605], [3.0, 0.7956093000000001], [3.0, 0.0], [3.0, -0.7956093000000001], [2.683901074764725, -1.5587396123545605], [2.121320343559643, -2.121320343559643], [1.5587396123545605, -2.683901074764725], [0.7956093000000001, -3.0], [0.0, -3.0], [-0.7956093000000001, -3.0], [-1.5587396123545605, -2.683901074764725], [-2.121320343559643, -2.121320343559643], [-2.683901074764725, -1.5587396123545605], [-3.0, -0.7956093000000001], [-3.0, 0.0], [-3.0, 0.7956093000000001], [-2.683901074764725, 1.5587396123545605], [-2.121320343559643, 2.121320343559643], [-1.5587396123545605, 2.683901074764725], [-0.7956093000000001, 3.0], [0.0, 3.0]], [\"M\", \"C\", \"C\", \"C\", \"C\", \"C\", \"C\", \"C\", \"C\", \"Z\"]], \"alpha\": 1, \"xindex\": 0, \"data\": \"data01\", \"id\": \"el3420199425160pts\"}, {\"edgecolor\": \"#0000FF\", \"facecolor\": \"#0000FF\", \"edgewidth\": 1.0, \"yindex\": 6, \"coordinates\": \"data\", \"zorder\": 2, \"markerpath\": [[[0.0, 3.0], [0.7956093000000001, 3.0], [1.5587396123545605, 2.683901074764725], [2.121320343559643, 2.121320343559643], [2.683901074764725, 1.5587396123545605], [3.0, 0.7956093000000001], [3.0, 0.0], [3.0, -0.7956093000000001], [2.683901074764725, -1.5587396123545605], [2.121320343559643, -2.121320343559643], [1.5587396123545605, -2.683901074764725], [0.7956093000000001, -3.0], [0.0, -3.0], [-0.7956093000000001, -3.0], [-1.5587396123545605, -2.683901074764725], [-2.121320343559643, -2.121320343559643], [-2.683901074764725, -1.5587396123545605], [-3.0, -0.7956093000000001], [-3.0, 0.0], [-3.0, 0.7956093000000001], [-2.683901074764725, 1.5587396123545605], [-2.121320343559643, 2.121320343559643], [-1.5587396123545605, 2.683901074764725], [-0.7956093000000001, 3.0], [0.0, 3.0]], [\"M\", \"C\", \"C\", \"C\", \"C\", \"C\", \"C\", \"C\", \"C\", \"Z\"]], \"alpha\": 1, \"xindex\": 0, \"data\": \"data01\", \"id\": \"el3420199536880pts\"}, {\"edgecolor\": \"#0000FF\", \"facecolor\": \"#0000FF\", \"edgewidth\": 1.0, \"yindex\": 7, \"coordinates\": \"data\", \"zorder\": 2, \"markerpath\": [[[0.0, 3.0], [0.7956093000000001, 3.0], [1.5587396123545605, 2.683901074764725], [2.121320343559643, 2.121320343559643], [2.683901074764725, 1.5587396123545605], [3.0, 0.7956093000000001], [3.0, 0.0], [3.0, -0.7956093000000001], [2.683901074764725, -1.5587396123545605], [2.121320343559643, -2.121320343559643], [1.5587396123545605, -2.683901074764725], [0.7956093000000001, -3.0], [0.0, -3.0], [-0.7956093000000001, -3.0], [-1.5587396123545605, -2.683901074764725], [-2.121320343559643, -2.121320343559643], [-2.683901074764725, -1.5587396123545605], [-3.0, -0.7956093000000001], [-3.0, 0.0], [-3.0, 0.7956093000000001], [-2.683901074764725, 1.5587396123545605], [-2.121320343559643, 2.121320343559643], [-1.5587396123545605, 2.683901074764725], [-0.7956093000000001, 3.0], [0.0, 3.0]], [\"M\", \"C\", \"C\", \"C\", \"C\", \"C\", \"C\", \"C\", \"C\", \"Z\"]], \"alpha\": 1, \"xindex\": 0, \"data\": \"data01\", \"id\": \"el3420199537832pts\"}, {\"edgecolor\": \"#FF0000\", \"facecolor\": \"#FF0000\", \"edgewidth\": 1.0, \"yindex\": 8, \"coordinates\": \"data\", \"zorder\": 2, \"markerpath\": [[[-3.6739403974420594e-16, 3.0], [3.0000000000000004, -2.9999999999999996], [-2.9999999999999996, -3.0000000000000004]], [\"M\", \"L\", \"L\", \"Z\"]], \"alpha\": 1, \"xindex\": 0, \"data\": \"data01\", \"id\": \"el3420199538672pts\"}], \"id\": \"el3420195857432\", \"ydomain\": [3.57330603730737e-07, 4711.49091508577], \"collections\": [], \"xscale\": \"log\", \"bbox\": [0.125, 0.125, 0.775, 0.755]}], \"height\": 355.9950556242274, \"width\": 576.0, \"plugins\": [{\"type\": \"reset\"}, {\"enabled\": false, \"button\": true, \"type\": \"zoom\"}, {\"enabled\": false, \"button\": true, \"type\": \"boxzoom\"}], \"data\": {\"data01\": [[0.7791648446403256, 735.265568551728, 31.98963642189075, 16.365239856287502, NaN, NaN, NaN, NaN, NaN], [1.0388864595204343, 1633.6324496772972, 53.107488655310775, 49.47540586640328, NaN, NaN, NaN, NaN, NaN], [1.2986080744005428, 831.7350216513331, 29.70897916176924, 76.8884262998987, NaN, NaN, NaN, NaN, NaN], [1.5583296892806513, 805.2146137870005, 13.236701528146575, 10.958871879432076, NaN, NaN, NaN, NaN, NaN], [1.81805130416076, 1215.9135890634134, 8.713918539246452, 6.28690004221225, NaN, NaN, NaN, NaN, NaN], [2.0777729190408687, 1582.4256413198402, 9.468170263249817, 4.538912878524241, NaN, NaN, NaN, NaN, NaN], [2.337494533920977, 12.704970209048836, 0.5660144859394581, 3.692062667817727, NaN, NaN, NaN, NaN, NaN], [2.5972161488010856, 196.2942883535446, 0.09299054922468862, 2.5300189364466408, NaN, NaN, NaN, NaN, NaN], [2.856937763681194, 8.146359348468225, 2.224051145986035, 2.218508342100837, NaN, NaN, NaN, NaN, NaN], [3.1166593785613026, 1.1305863609267526, 1.8452712492110317, 1.6178633441357682, NaN, NaN, NaN, NaN, NaN], [3.3763809934414115, 10.663854125247603, 0.4005055300634537, 1.092905649661108, NaN, NaN, NaN, NaN, NaN], [3.63610260832152, 49.34778523817675, 9.260528268125549e-06, 0.8877801958516243, NaN, NaN, NaN, NaN, NaN], [3.895824223201628, 57.102946370044585, 0.4632145128294855, 0.6497369271215747, NaN, NaN, NaN, NaN, NaN], [4.155545838081737, 782.408280441181, 0.7836346474386215, 0.6609741187948712, NaN, NaN, NaN, NaN, NaN], [4.415267452961846, 1074.4693971975037, 0.5711641449357149, 0.6043143355438949, NaN, NaN, NaN, NaN, NaN], [4.674989067841954, 239.17762200134513, 0.46628186229475244, 0.297849562699659, NaN, NaN, NaN, NaN, NaN], [4.934710682722063, 726.0958612532737, 0.2921387975046245, 0.12162799483111328, NaN, NaN, NaN, NaN, NaN], [5.194432297602171, 209.37301981330276, 0.22653476922632787, 134.43578369903594, NaN, NaN, NaN, NaN, NaN], [5.45415391248228, 86.81416825525666, 341.64525945675155, 252.66181442255817, NaN, NaN, NaN, NaN, NaN], [5.713875527362388, 2.566140380719734e-06, 40.56621957785092, 55.14061770646901, NaN, NaN, NaN, NaN, NaN], [5.973597142242497, 166.25515179889635, 722.0702459589924, 123.99996804454095, NaN, NaN, NaN, NaN, NaN], [6.233318757122605, 737.5964235097858, 98.84419112346535, 180.791727307073, NaN, NaN, NaN, NaN, NaN], [6.4930403720027146, 246.41422607739523, 62.12295659233116, 743.6020628703077, NaN, NaN, NaN, NaN, NaN], [6.752761986882823, 297.5256780440088, 77.58621645107748, 4.890672087640431, NaN, NaN, NaN, NaN, NaN], [7.012483601762931, 261.064984691224, 433.83325192014695, 31.911114318137212, NaN, NaN, NaN, NaN, NaN], [7.27220521664304, 343.17021075320787, 1.0305622256046913e-06, 647.5889147131003, NaN, NaN, NaN, NaN, NaN], [7.5319268315231485, 90.93033521013757, 41.23217070527537, 623.7426507248107, NaN, NaN, NaN, NaN, NaN], [7.791648446403256, 89.01590819644044, 221.72264743422411, 266.01074085906527, NaN, NaN, NaN, NaN, NaN], [8.051370061283365, 70.37189608582389, 197.58211349322417, 208.95451061577742, NaN, NaN, NaN, NaN, NaN], [8.311091676163475, 623.4901876727432, 304.6390795621587, 363.1234649949068, NaN, NaN, NaN, NaN, NaN], [8.570813291043583, 11.431508070328036, 426.73606383603993, 423.47854149246814, NaN, NaN, NaN, NaN, NaN]]}, \"id\": \"el3420183444088\"});\n",
       "      });\n",
       "    });\n",
       "}else{\n",
       "    // require.js not available: dynamically load d3 & mpld3\n",
       "    mpld3_load_lib(\"https://mpld3.github.io/js/d3.v3.min.js\", function(){\n",
       "         mpld3_load_lib(\"https://mpld3.github.io/js/mpld3.v0.3.js\", function(){\n",
       "                 \n",
       "                 mpld3.draw_figure(\"fig_el34201834440884922372407\", {\"axes\": [{\"xlim\": [0.9, 15.0], \"yscale\": \"log\", \"axesbg\": \"#FFFFFF\", \"texts\": [{\"v_baseline\": \"hanging\", \"h_anchor\": \"middle\", \"color\": \"#000000\", \"text\": \"q\", \"coordinates\": \"axes\", \"zorder\": 3, \"alpha\": 1, \"fontsize\": 10.0, \"position\": [0.5, -0.09227005150846211], \"rotation\": -0.0, \"id\": \"el3420199423312\"}], \"zoomable\": true, \"images\": [], \"xdomain\": [0.9, 15.0], \"ylim\": [3.57330603730737e-07, 4711.49091508577], \"paths\": [], \"sharey\": [], \"sharex\": [], \"axesbgalpha\": null, \"axes\": [{\"scale\": \"log\", \"tickformat\": null, \"grid\": {\"gridOn\": false}, \"visible\": true, \"fontsize\": 10.0, \"position\": \"bottom\", \"nticks\": 6, \"tickvalues\": null}, {\"scale\": \"log\", \"tickformat\": null, \"grid\": {\"gridOn\": false}, \"visible\": true, \"fontsize\": 10.0, \"position\": \"left\", \"nticks\": 9, \"tickvalues\": null}], \"lines\": [], \"markers\": [{\"edgecolor\": \"#0000FF\", \"facecolor\": \"#0000FF\", \"edgewidth\": 1.0, \"yindex\": 1, \"coordinates\": \"data\", \"zorder\": 2, \"markerpath\": [[[0.0, 3.0], [0.7956093000000001, 3.0], [1.5587396123545605, 2.683901074764725], [2.121320343559643, 2.121320343559643], [2.683901074764725, 1.5587396123545605], [3.0, 0.7956093000000001], [3.0, 0.0], [3.0, -0.7956093000000001], [2.683901074764725, -1.5587396123545605], [2.121320343559643, -2.121320343559643], [1.5587396123545605, -2.683901074764725], [0.7956093000000001, -3.0], [0.0, -3.0], [-0.7956093000000001, -3.0], [-1.5587396123545605, -2.683901074764725], [-2.121320343559643, -2.121320343559643], [-2.683901074764725, -1.5587396123545605], [-3.0, -0.7956093000000001], [-3.0, 0.0], [-3.0, 0.7956093000000001], [-2.683901074764725, 1.5587396123545605], [-2.121320343559643, 2.121320343559643], [-1.5587396123545605, 2.683901074764725], [-0.7956093000000001, 3.0], [0.0, 3.0]], [\"M\", \"C\", \"C\", \"C\", \"C\", \"C\", \"C\", \"C\", \"C\", \"Z\"]], \"alpha\": 1, \"xindex\": 0, \"data\": \"data01\", \"id\": \"el3420202968032pts\"}, {\"edgecolor\": \"#0000FF\", \"facecolor\": \"#0000FF\", \"edgewidth\": 1.0, \"yindex\": 2, \"coordinates\": \"data\", \"zorder\": 2, \"markerpath\": [[[0.0, 3.0], [0.7956093000000001, 3.0], [1.5587396123545605, 2.683901074764725], [2.121320343559643, 2.121320343559643], [2.683901074764725, 1.5587396123545605], [3.0, 0.7956093000000001], [3.0, 0.0], [3.0, -0.7956093000000001], [2.683901074764725, -1.5587396123545605], [2.121320343559643, -2.121320343559643], [1.5587396123545605, -2.683901074764725], [0.7956093000000001, -3.0], [0.0, -3.0], [-0.7956093000000001, -3.0], [-1.5587396123545605, -2.683901074764725], [-2.121320343559643, -2.121320343559643], [-2.683901074764725, -1.5587396123545605], [-3.0, -0.7956093000000001], [-3.0, 0.0], [-3.0, 0.7956093000000001], [-2.683901074764725, 1.5587396123545605], [-2.121320343559643, 2.121320343559643], [-1.5587396123545605, 2.683901074764725], [-0.7956093000000001, 3.0], [0.0, 3.0]], [\"M\", \"C\", \"C\", \"C\", \"C\", \"C\", \"C\", \"C\", \"C\", \"Z\"]], \"alpha\": 1, \"xindex\": 0, \"data\": \"data01\", \"id\": \"el3420199423984pts\"}, {\"edgecolor\": \"#0000FF\", \"facecolor\": \"#0000FF\", \"edgewidth\": 1.0, \"yindex\": 3, \"coordinates\": \"data\", \"zorder\": 2, \"markerpath\": [[[0.0, 3.0], [0.7956093000000001, 3.0], [1.5587396123545605, 2.683901074764725], [2.121320343559643, 2.121320343559643], [2.683901074764725, 1.5587396123545605], [3.0, 0.7956093000000001], [3.0, 0.0], [3.0, -0.7956093000000001], [2.683901074764725, -1.5587396123545605], [2.121320343559643, -2.121320343559643], [1.5587396123545605, -2.683901074764725], [0.7956093000000001, -3.0], [0.0, -3.0], [-0.7956093000000001, -3.0], [-1.5587396123545605, -2.683901074764725], [-2.121320343559643, -2.121320343559643], [-2.683901074764725, -1.5587396123545605], [-3.0, -0.7956093000000001], [-3.0, 0.0], [-3.0, 0.7956093000000001], [-2.683901074764725, 1.5587396123545605], [-2.121320343559643, 2.121320343559643], [-1.5587396123545605, 2.683901074764725], [-0.7956093000000001, 3.0], [0.0, 3.0]], [\"M\", \"C\", \"C\", \"C\", \"C\", \"C\", \"C\", \"C\", \"C\", \"Z\"]], \"alpha\": 1, \"xindex\": 0, \"data\": \"data01\", \"id\": \"el3420199424656pts\"}, {\"edgecolor\": \"#0000FF\", \"facecolor\": \"#0000FF\", \"edgewidth\": 1.0, \"yindex\": 4, \"coordinates\": \"data\", \"zorder\": 2, \"markerpath\": [[[0.0, 3.0], [0.7956093000000001, 3.0], [1.5587396123545605, 2.683901074764725], [2.121320343559643, 2.121320343559643], [2.683901074764725, 1.5587396123545605], [3.0, 0.7956093000000001], [3.0, 0.0], [3.0, -0.7956093000000001], [2.683901074764725, -1.5587396123545605], [2.121320343559643, -2.121320343559643], [1.5587396123545605, -2.683901074764725], [0.7956093000000001, -3.0], [0.0, -3.0], [-0.7956093000000001, -3.0], [-1.5587396123545605, -2.683901074764725], [-2.121320343559643, -2.121320343559643], [-2.683901074764725, -1.5587396123545605], [-3.0, -0.7956093000000001], [-3.0, 0.0], [-3.0, 0.7956093000000001], [-2.683901074764725, 1.5587396123545605], [-2.121320343559643, 2.121320343559643], [-1.5587396123545605, 2.683901074764725], [-0.7956093000000001, 3.0], [0.0, 3.0]], [\"M\", \"C\", \"C\", \"C\", \"C\", \"C\", \"C\", \"C\", \"C\", \"Z\"]], \"alpha\": 1, \"xindex\": 0, \"data\": \"data01\", \"id\": \"el3420199423760pts\"}, {\"edgecolor\": \"#0000FF\", \"facecolor\": \"#0000FF\", \"edgewidth\": 1.0, \"yindex\": 5, \"coordinates\": \"data\", \"zorder\": 2, \"markerpath\": [[[0.0, 3.0], [0.7956093000000001, 3.0], [1.5587396123545605, 2.683901074764725], [2.121320343559643, 2.121320343559643], [2.683901074764725, 1.5587396123545605], [3.0, 0.7956093000000001], [3.0, 0.0], [3.0, -0.7956093000000001], [2.683901074764725, -1.5587396123545605], [2.121320343559643, -2.121320343559643], [1.5587396123545605, -2.683901074764725], [0.7956093000000001, -3.0], [0.0, -3.0], [-0.7956093000000001, -3.0], [-1.5587396123545605, -2.683901074764725], [-2.121320343559643, -2.121320343559643], [-2.683901074764725, -1.5587396123545605], [-3.0, -0.7956093000000001], [-3.0, 0.0], [-3.0, 0.7956093000000001], [-2.683901074764725, 1.5587396123545605], [-2.121320343559643, 2.121320343559643], [-1.5587396123545605, 2.683901074764725], [-0.7956093000000001, 3.0], [0.0, 3.0]], [\"M\", \"C\", \"C\", \"C\", \"C\", \"C\", \"C\", \"C\", \"C\", \"Z\"]], \"alpha\": 1, \"xindex\": 0, \"data\": \"data01\", \"id\": \"el3420199425160pts\"}, {\"edgecolor\": \"#0000FF\", \"facecolor\": \"#0000FF\", \"edgewidth\": 1.0, \"yindex\": 6, \"coordinates\": \"data\", \"zorder\": 2, \"markerpath\": [[[0.0, 3.0], [0.7956093000000001, 3.0], [1.5587396123545605, 2.683901074764725], [2.121320343559643, 2.121320343559643], [2.683901074764725, 1.5587396123545605], [3.0, 0.7956093000000001], [3.0, 0.0], [3.0, -0.7956093000000001], [2.683901074764725, -1.5587396123545605], [2.121320343559643, -2.121320343559643], [1.5587396123545605, -2.683901074764725], [0.7956093000000001, -3.0], [0.0, -3.0], [-0.7956093000000001, -3.0], [-1.5587396123545605, -2.683901074764725], [-2.121320343559643, -2.121320343559643], [-2.683901074764725, -1.5587396123545605], [-3.0, -0.7956093000000001], [-3.0, 0.0], [-3.0, 0.7956093000000001], [-2.683901074764725, 1.5587396123545605], [-2.121320343559643, 2.121320343559643], [-1.5587396123545605, 2.683901074764725], [-0.7956093000000001, 3.0], [0.0, 3.0]], [\"M\", \"C\", \"C\", \"C\", \"C\", \"C\", \"C\", \"C\", \"C\", \"Z\"]], \"alpha\": 1, \"xindex\": 0, \"data\": \"data01\", \"id\": \"el3420199536880pts\"}, {\"edgecolor\": \"#0000FF\", \"facecolor\": \"#0000FF\", \"edgewidth\": 1.0, \"yindex\": 7, \"coordinates\": \"data\", \"zorder\": 2, \"markerpath\": [[[0.0, 3.0], [0.7956093000000001, 3.0], [1.5587396123545605, 2.683901074764725], [2.121320343559643, 2.121320343559643], [2.683901074764725, 1.5587396123545605], [3.0, 0.7956093000000001], [3.0, 0.0], [3.0, -0.7956093000000001], [2.683901074764725, -1.5587396123545605], [2.121320343559643, -2.121320343559643], [1.5587396123545605, -2.683901074764725], [0.7956093000000001, -3.0], [0.0, -3.0], [-0.7956093000000001, -3.0], [-1.5587396123545605, -2.683901074764725], [-2.121320343559643, -2.121320343559643], [-2.683901074764725, -1.5587396123545605], [-3.0, -0.7956093000000001], [-3.0, 0.0], [-3.0, 0.7956093000000001], [-2.683901074764725, 1.5587396123545605], [-2.121320343559643, 2.121320343559643], [-1.5587396123545605, 2.683901074764725], [-0.7956093000000001, 3.0], [0.0, 3.0]], [\"M\", \"C\", \"C\", \"C\", \"C\", \"C\", \"C\", \"C\", \"C\", \"Z\"]], \"alpha\": 1, \"xindex\": 0, \"data\": \"data01\", \"id\": \"el3420199537832pts\"}, {\"edgecolor\": \"#FF0000\", \"facecolor\": \"#FF0000\", \"edgewidth\": 1.0, \"yindex\": 8, \"coordinates\": \"data\", \"zorder\": 2, \"markerpath\": [[[-3.6739403974420594e-16, 3.0], [3.0000000000000004, -2.9999999999999996], [-2.9999999999999996, -3.0000000000000004]], [\"M\", \"L\", \"L\", \"Z\"]], \"alpha\": 1, \"xindex\": 0, \"data\": \"data01\", \"id\": \"el3420199538672pts\"}], \"id\": \"el3420195857432\", \"ydomain\": [3.57330603730737e-07, 4711.49091508577], \"collections\": [], \"xscale\": \"log\", \"bbox\": [0.125, 0.125, 0.775, 0.755]}], \"height\": 355.9950556242274, \"width\": 576.0, \"plugins\": [{\"type\": \"reset\"}, {\"enabled\": false, \"button\": true, \"type\": \"zoom\"}, {\"enabled\": false, \"button\": true, \"type\": \"boxzoom\"}], \"data\": {\"data01\": [[0.7791648446403256, 735.265568551728, 31.98963642189075, 16.365239856287502, NaN, NaN, NaN, NaN, NaN], [1.0388864595204343, 1633.6324496772972, 53.107488655310775, 49.47540586640328, NaN, NaN, NaN, NaN, NaN], [1.2986080744005428, 831.7350216513331, 29.70897916176924, 76.8884262998987, NaN, NaN, NaN, NaN, NaN], [1.5583296892806513, 805.2146137870005, 13.236701528146575, 10.958871879432076, NaN, NaN, NaN, NaN, NaN], [1.81805130416076, 1215.9135890634134, 8.713918539246452, 6.28690004221225, NaN, NaN, NaN, NaN, NaN], [2.0777729190408687, 1582.4256413198402, 9.468170263249817, 4.538912878524241, NaN, NaN, NaN, NaN, NaN], [2.337494533920977, 12.704970209048836, 0.5660144859394581, 3.692062667817727, NaN, NaN, NaN, NaN, NaN], [2.5972161488010856, 196.2942883535446, 0.09299054922468862, 2.5300189364466408, NaN, NaN, NaN, NaN, NaN], [2.856937763681194, 8.146359348468225, 2.224051145986035, 2.218508342100837, NaN, NaN, NaN, NaN, NaN], [3.1166593785613026, 1.1305863609267526, 1.8452712492110317, 1.6178633441357682, NaN, NaN, NaN, NaN, NaN], [3.3763809934414115, 10.663854125247603, 0.4005055300634537, 1.092905649661108, NaN, NaN, NaN, NaN, NaN], [3.63610260832152, 49.34778523817675, 9.260528268125549e-06, 0.8877801958516243, NaN, NaN, NaN, NaN, NaN], [3.895824223201628, 57.102946370044585, 0.4632145128294855, 0.6497369271215747, NaN, NaN, NaN, NaN, NaN], [4.155545838081737, 782.408280441181, 0.7836346474386215, 0.6609741187948712, NaN, NaN, NaN, NaN, NaN], [4.415267452961846, 1074.4693971975037, 0.5711641449357149, 0.6043143355438949, NaN, NaN, NaN, NaN, NaN], [4.674989067841954, 239.17762200134513, 0.46628186229475244, 0.297849562699659, NaN, NaN, NaN, NaN, NaN], [4.934710682722063, 726.0958612532737, 0.2921387975046245, 0.12162799483111328, NaN, NaN, NaN, NaN, NaN], [5.194432297602171, 209.37301981330276, 0.22653476922632787, 134.43578369903594, NaN, NaN, NaN, NaN, NaN], [5.45415391248228, 86.81416825525666, 341.64525945675155, 252.66181442255817, NaN, NaN, NaN, NaN, NaN], [5.713875527362388, 2.566140380719734e-06, 40.56621957785092, 55.14061770646901, NaN, NaN, NaN, NaN, NaN], [5.973597142242497, 166.25515179889635, 722.0702459589924, 123.99996804454095, NaN, NaN, NaN, NaN, NaN], [6.233318757122605, 737.5964235097858, 98.84419112346535, 180.791727307073, NaN, NaN, NaN, NaN, NaN], [6.4930403720027146, 246.41422607739523, 62.12295659233116, 743.6020628703077, NaN, NaN, NaN, NaN, NaN], [6.752761986882823, 297.5256780440088, 77.58621645107748, 4.890672087640431, NaN, NaN, NaN, NaN, NaN], [7.012483601762931, 261.064984691224, 433.83325192014695, 31.911114318137212, NaN, NaN, NaN, NaN, NaN], [7.27220521664304, 343.17021075320787, 1.0305622256046913e-06, 647.5889147131003, NaN, NaN, NaN, NaN, NaN], [7.5319268315231485, 90.93033521013757, 41.23217070527537, 623.7426507248107, NaN, NaN, NaN, NaN, NaN], [7.791648446403256, 89.01590819644044, 221.72264743422411, 266.01074085906527, NaN, NaN, NaN, NaN, NaN], [8.051370061283365, 70.37189608582389, 197.58211349322417, 208.95451061577742, NaN, NaN, NaN, NaN, NaN], [8.311091676163475, 623.4901876727432, 304.6390795621587, 363.1234649949068, NaN, NaN, NaN, NaN, NaN], [8.570813291043583, 11.431508070328036, 426.73606383603993, 423.47854149246814, NaN, NaN, NaN, NaN, NaN]]}, \"id\": \"el3420183444088\"});\n",
       "            })\n",
       "         });\n",
       "}\n",
       "</script>"
      ],
      "text/plain": [
       "<Figure size 576x355.995 with 1 Axes>"
      ]
     },
     "metadata": {},
     "output_type": "display_data"
    }
   ],
   "source": [
    "%matplotlib inline\n",
    "mpld3.enable_notebook()\n",
    "\n",
    "#This will plot all of the q vs tau for all of the ROIs in the   \n",
    "tau = np.zeros([7,63]) #decay time\n",
    "amp = np.zeros_like(tau) #amplitude\n",
    "bg = np.zeros_like(tau) #background\n",
    "alph = np.zeros_like(tau) #alpha (stretching exponent)\n",
    "chi2 = np.zeros_like(tau)\n",
    "#fitparams = np.zeros([63,7])\n",
    "for i in range(3):\n",
    "    fitparams = Ana_data['fitparams'+ROI[i]]\n",
    "    tau[i,:] = fitparams[:,1]\n",
    "    amp[i,:] = fitparams[:,0]\n",
    "    bg[i,:] = fitparams[:,2]\n",
    "    alph[i,:] = fitparams[:,3]\n",
    "\n",
    "fig = plt.figure(figsize=(8,8/1.618)); ax = fig.gca(); \n",
    "ax.set_xlabel(\"q\", fontdict=font_plt_ax)\n",
    "\n",
    "nt = np.zeros([7,31])\n",
    "for i in range(7):\n",
    "    nt[i] = ddm.newt(tau[i,2:-30],alph[i,2:-30])\n",
    "    ax.loglog(q[3:-30], ddm.newt(tau[i,2:-30],alph[i,2:-30]),'bo')\n",
    "\n",
    "ntav = np.mean(nt, axis=0)\n",
    "ntstd = np.std(nt,axis=0)\n",
    "\n",
    "ax.loglog(q[3:-30], ntav, 'rv')\n",
    "ax.set_xlim(0.9,15)"
   ]
  },
  {
   "cell_type": "code",
   "execution_count": 54,
   "metadata": {},
   "outputs": [
    {
     "ename": "ValueError",
     "evalue": "setting an array element with a sequence.",
     "output_type": "error",
     "traceback": [
      "\u001b[1;31m---------------------------------------------------------------------------\u001b[0m",
      "\u001b[1;31mValueError\u001b[0m                                Traceback (most recent call last)",
      "\u001b[1;32m<ipython-input-54-f0d86f08f854>\u001b[0m in \u001b[0;36m<module>\u001b[1;34m()\u001b[0m\n\u001b[1;32m----> 1\u001b[1;33m \u001b[0mnewtaus\u001b[0m\u001b[1;33m[\u001b[0m\u001b[0mss\u001b[0m\u001b[1;33m]\u001b[0m \u001b[1;33m=\u001b[0m \u001b[0mntav\u001b[0m\u001b[1;33m\u001b[0m\u001b[0m\n\u001b[0m\u001b[0;32m      2\u001b[0m \u001b[0mnewtaustds\u001b[0m\u001b[1;33m[\u001b[0m\u001b[0mss\u001b[0m\u001b[1;33m]\u001b[0m \u001b[1;33m=\u001b[0m \u001b[0mntstd\u001b[0m\u001b[1;33m\u001b[0m\u001b[0m\n",
      "\u001b[1;31mValueError\u001b[0m: setting an array element with a sequence."
     ]
    }
   ],
   "source": [
    "newtaus[ss] = ntav\n",
    "newtaustds[ss] = ntstd"
   ]
  },
  {
   "cell_type": "code",
   "execution_count": 55,
   "metadata": {},
   "outputs": [],
   "source": [
    "def DiffCoef (newtau_average, StretchExp, qrange, qmin, qmax):\n",
    "    nt = newtau_average\n",
    "    indx = (qrange>qmin) & (qrange<qmax)\n",
    "    ds = (qrange[indx]**-2) / nt[indx]\n",
    "    return ds.mean(), indx\n",
    "\n",
    "def Diff_Fit(qrange, taurange, qmin, qmax, StExp, slope):\n",
    "    step1 = DiffCoef(taurange, StExp, qrange, qmin, qmax)\n",
    "    fit1 = (1./step1[0]) * 1./(qrange**slope)\n",
    "    return fit1, step1[0], step1[1]\n",
    "\n",
    "def getDiff(newtau_average, qs, qmin, qmax, power=0.5):\n",
    "    w = np.where((qs>qmin)*(qs<qmax))\n",
    "    pfit = np.polyfit(qs[w[0]], (1./newtau_average[w[0]])**power,1)\n",
    "    return pfit\n",
    "#Need to fix the function so the it will fit the data\n",
    "#define a function to plot the results\n",
    "\n",
    "def plot_results(qmin = q[2], qmax = q[10], slope = 2.0):\n",
    "    qs = q[3:-30]\n",
    "    fig,ax = plt.subplots(figsize=(8,8/1.618))\n",
    "    ax.loglog(qs, ntav, 'ro')\n",
    "    fits = Diff_Fit(qs, ntav, qmin, qmax, alph[2:-30], slope)\n",
    "    ax.plot(qs, fits[0],  '-k')\n",
    "    ax.text(0.55,0.8,'D = %.3f' %fits[1], \n",
    "        fontdict=font_plt,horizontalalignment='left', \n",
    "        verticalalignment='center', transform=ax.transAxes)\n",
    "    ax.text(0.55,0.77,'slope = %.1f' %slope, \n",
    "        fontdict=font_plt,horizontalalignment='left', \n",
    "        verticalalignment='center', transform=ax.transAxes)\n",
    "    ax.set_ylabel(\"Amplitude (red); Decay time (s)\", fontdict=font_plt_ax)"
   ]
  },
  {
   "cell_type": "code",
   "execution_count": 56,
   "metadata": {},
   "outputs": [
    {
     "data": {
      "application/vnd.jupyter.widget-view+json": {
       "model_id": "1fd533b1a61045d893d87b14eec6b810",
       "version_major": 2,
       "version_minor": 0
      },
      "text/plain": [
       "aW50ZXJhY3RpdmUoY2hpbGRyZW49KEZsb2F0U2xpZGVyKHZhbHVlPTAuNTE5NDQzMjI5NzYwMjE3MiwgZGVzY3JpcHRpb249dSdxbWluJywgbWF4PTEuMjk4NjA4MDc0NDAwNTQyOCksIEZsb2HigKY=\n"
      ]
     },
     "metadata": {},
     "output_type": "display_data"
    },
    {
     "data": {
      "text/plain": [
       "<function __main__.plot_results>"
      ]
     },
     "execution_count": 56,
     "metadata": {},
     "output_type": "execute_result"
    }
   ],
   "source": [
    "#fit to the low q region\n",
    "interact(plot_results, qmin = (q[0], q[5]), qmax = (q[5], q[10]), slope = (2.0,4.5), continuous_update=False)"
   ]
  },
  {
   "cell_type": "code",
   "execution_count": 35,
   "metadata": {},
   "outputs": [],
   "source": [
    "R1_Diff[ss] = 0.212\n",
    "R1_exp[ss] = 2.3"
   ]
  },
  {
   "cell_type": "code",
   "execution_count": 36,
   "metadata": {},
   "outputs": [
    {
     "data": {
      "application/vnd.jupyter.widget-view+json": {
       "model_id": "f353d51cbc5c420598a9779cdfe738f1",
       "version_major": 2,
       "version_minor": 0
      },
      "text/plain": [
       "aW50ZXJhY3RpdmUoY2hpbGRyZW49KEZsb2F0U2xpZGVyKHZhbHVlPTEuMDM4ODg2NDU5NTIwNDM0MywgZGVzY3JpcHRpb249dSdxbWluJywgbWF4PTEuODE4MDUxMzA0MTYwNzYsIG1pbj0xLjDigKY=\n"
      ]
     },
     "metadata": {},
     "output_type": "display_data"
    },
    {
     "data": {
      "text/plain": [
       "<function __main__.plot_results>"
      ]
     },
     "execution_count": 36,
     "metadata": {},
     "output_type": "execute_result"
    }
   ],
   "source": [
    "#fit to the high q region\n",
    "interact(plot_results, qmin = (q[4], q[7]), qmax = (q[7], q[13]), slope = (2.0,4.5), continuous_update=False)"
   ]
  },
  {
   "cell_type": "code",
   "execution_count": 37,
   "metadata": {},
   "outputs": [],
   "source": [
    "R2_Diff[ss] = 0.253\n",
    "R2_exp[ss] = 2.0"
   ]
  },
  {
   "cell_type": "code",
   "execution_count": 38,
   "metadata": {},
   "outputs": [
    {
     "ename": "ValueError",
     "evalue": "x and y must have same first dimension, but have shapes (31L,) and (0L, 63L)",
     "output_type": "error",
     "traceback": [
      "\u001b[1;31m---------------------------------------------------------------------------\u001b[0m",
      "\u001b[1;31mValueError\u001b[0m                                Traceback (most recent call last)",
      "\u001b[1;32m<ipython-input-38-c48cd75484a3>\u001b[0m in \u001b[0;36m<module>\u001b[1;34m()\u001b[0m\n\u001b[0;32m      2\u001b[0m \u001b[0mfig\u001b[0m \u001b[1;33m=\u001b[0m \u001b[0mplt\u001b[0m\u001b[1;33m.\u001b[0m\u001b[0mfigure\u001b[0m\u001b[1;33m(\u001b[0m\u001b[0mfigsize\u001b[0m\u001b[1;33m=\u001b[0m\u001b[1;33m(\u001b[0m\u001b[1;36m8\u001b[0m\u001b[1;33m,\u001b[0m\u001b[1;36m8\u001b[0m\u001b[1;33m/\u001b[0m\u001b[1;36m1.618\u001b[0m\u001b[1;33m)\u001b[0m\u001b[1;33m)\u001b[0m\u001b[1;33m;\u001b[0m \u001b[0max\u001b[0m \u001b[1;33m=\u001b[0m \u001b[0mfig\u001b[0m\u001b[1;33m.\u001b[0m\u001b[0mgca\u001b[0m\u001b[1;33m(\u001b[0m\u001b[1;33m)\u001b[0m\u001b[1;33m;\u001b[0m\u001b[1;33m\u001b[0m\u001b[0m\n\u001b[0;32m      3\u001b[0m \u001b[1;31m#ax.loglog(q[3:-1], tau[2:-1], 'ro')\u001b[0m\u001b[1;33m\u001b[0m\u001b[1;33m\u001b[0m\u001b[0m\n\u001b[1;32m----> 4\u001b[1;33m \u001b[0max\u001b[0m\u001b[1;33m.\u001b[0m\u001b[0mloglog\u001b[0m\u001b[1;33m(\u001b[0m\u001b[0mq\u001b[0m\u001b[1;33m[\u001b[0m\u001b[1;36m3\u001b[0m\u001b[1;33m:\u001b[0m\u001b[1;33m-\u001b[0m\u001b[1;36m30\u001b[0m\u001b[1;33m]\u001b[0m\u001b[1;33m,\u001b[0m \u001b[0mddm\u001b[0m\u001b[1;33m.\u001b[0m\u001b[0mnewt\u001b[0m\u001b[1;33m(\u001b[0m\u001b[0mtau\u001b[0m\u001b[1;33m[\u001b[0m\u001b[1;36m2\u001b[0m\u001b[1;33m:\u001b[0m\u001b[1;33m-\u001b[0m\u001b[1;36m30\u001b[0m\u001b[1;33m]\u001b[0m\u001b[1;33m,\u001b[0m\u001b[0malph\u001b[0m\u001b[1;33m[\u001b[0m\u001b[1;36m2\u001b[0m\u001b[1;33m:\u001b[0m\u001b[1;33m-\u001b[0m\u001b[1;36m30\u001b[0m\u001b[1;33m]\u001b[0m\u001b[1;33m)\u001b[0m\u001b[1;33m,\u001b[0m\u001b[1;34m'bo'\u001b[0m\u001b[1;33m)\u001b[0m\u001b[1;33m\u001b[0m\u001b[0m\n\u001b[0m\u001b[0;32m      5\u001b[0m \u001b[1;31m#ax.loglog(q[3:-30], ddm.newt(tau2[2:-30],alph2[2:-30]),'rv')\u001b[0m\u001b[1;33m\u001b[0m\u001b[1;33m\u001b[0m\u001b[0m\n\u001b[0;32m      6\u001b[0m \u001b[0mdiffusion_coeff\u001b[0m \u001b[1;33m=\u001b[0m \u001b[1;36m0.25\u001b[0m\u001b[1;33m\u001b[0m\u001b[0m\n",
      "\u001b[1;32mC:\\Users\\Student\\Anaconda2\\lib\\site-packages\\matplotlib\\axes\\_axes.pyc\u001b[0m in \u001b[0;36mloglog\u001b[1;34m(self, *args, **kwargs)\u001b[0m\n\u001b[0;32m   1670\u001b[0m         \u001b[0mb\u001b[0m \u001b[1;33m=\u001b[0m \u001b[0mself\u001b[0m\u001b[1;33m.\u001b[0m\u001b[0m_hold\u001b[0m\u001b[1;33m\u001b[0m\u001b[0m\n\u001b[0;32m   1671\u001b[0m         \u001b[0mself\u001b[0m\u001b[1;33m.\u001b[0m\u001b[0m_hold\u001b[0m \u001b[1;33m=\u001b[0m \u001b[0mTrue\u001b[0m  \u001b[1;31m# we've already processed the hold\u001b[0m\u001b[1;33m\u001b[0m\u001b[0m\n\u001b[1;32m-> 1672\u001b[1;33m         \u001b[0ml\u001b[0m \u001b[1;33m=\u001b[0m \u001b[0mself\u001b[0m\u001b[1;33m.\u001b[0m\u001b[0mplot\u001b[0m\u001b[1;33m(\u001b[0m\u001b[1;33m*\u001b[0m\u001b[0margs\u001b[0m\u001b[1;33m,\u001b[0m \u001b[1;33m**\u001b[0m\u001b[0mkwargs\u001b[0m\u001b[1;33m)\u001b[0m\u001b[1;33m\u001b[0m\u001b[0m\n\u001b[0m\u001b[0;32m   1673\u001b[0m         \u001b[0mself\u001b[0m\u001b[1;33m.\u001b[0m\u001b[0m_hold\u001b[0m \u001b[1;33m=\u001b[0m \u001b[0mb\u001b[0m  \u001b[1;31m# restore the hold\u001b[0m\u001b[1;33m\u001b[0m\u001b[0m\n\u001b[0;32m   1674\u001b[0m \u001b[1;33m\u001b[0m\u001b[0m\n",
      "\u001b[1;32mC:\\Users\\Student\\Anaconda2\\lib\\site-packages\\matplotlib\\__init__.pyc\u001b[0m in \u001b[0;36minner\u001b[1;34m(ax, *args, **kwargs)\u001b[0m\n\u001b[0;32m   1853\u001b[0m                         \u001b[1;34m\"the Matplotlib list!)\"\u001b[0m \u001b[1;33m%\u001b[0m \u001b[1;33m(\u001b[0m\u001b[0mlabel_namer\u001b[0m\u001b[1;33m,\u001b[0m \u001b[0mfunc\u001b[0m\u001b[1;33m.\u001b[0m\u001b[0m__name__\u001b[0m\u001b[1;33m)\u001b[0m\u001b[1;33m,\u001b[0m\u001b[1;33m\u001b[0m\u001b[0m\n\u001b[0;32m   1854\u001b[0m                         RuntimeWarning, stacklevel=2)\n\u001b[1;32m-> 1855\u001b[1;33m             \u001b[1;32mreturn\u001b[0m \u001b[0mfunc\u001b[0m\u001b[1;33m(\u001b[0m\u001b[0max\u001b[0m\u001b[1;33m,\u001b[0m \u001b[1;33m*\u001b[0m\u001b[0margs\u001b[0m\u001b[1;33m,\u001b[0m \u001b[1;33m**\u001b[0m\u001b[0mkwargs\u001b[0m\u001b[1;33m)\u001b[0m\u001b[1;33m\u001b[0m\u001b[0m\n\u001b[0m\u001b[0;32m   1856\u001b[0m \u001b[1;33m\u001b[0m\u001b[0m\n\u001b[0;32m   1857\u001b[0m         inner.__doc__ = _add_data_doc(inner.__doc__,\n",
      "\u001b[1;32mC:\\Users\\Student\\Anaconda2\\lib\\site-packages\\matplotlib\\axes\\_axes.pyc\u001b[0m in \u001b[0;36mplot\u001b[1;34m(self, *args, **kwargs)\u001b[0m\n\u001b[0;32m   1525\u001b[0m         \u001b[0mkwargs\u001b[0m \u001b[1;33m=\u001b[0m \u001b[0mcbook\u001b[0m\u001b[1;33m.\u001b[0m\u001b[0mnormalize_kwargs\u001b[0m\u001b[1;33m(\u001b[0m\u001b[0mkwargs\u001b[0m\u001b[1;33m,\u001b[0m \u001b[0m_alias_map\u001b[0m\u001b[1;33m)\u001b[0m\u001b[1;33m\u001b[0m\u001b[0m\n\u001b[0;32m   1526\u001b[0m \u001b[1;33m\u001b[0m\u001b[0m\n\u001b[1;32m-> 1527\u001b[1;33m         \u001b[1;32mfor\u001b[0m \u001b[0mline\u001b[0m \u001b[1;32min\u001b[0m \u001b[0mself\u001b[0m\u001b[1;33m.\u001b[0m\u001b[0m_get_lines\u001b[0m\u001b[1;33m(\u001b[0m\u001b[1;33m*\u001b[0m\u001b[0margs\u001b[0m\u001b[1;33m,\u001b[0m \u001b[1;33m**\u001b[0m\u001b[0mkwargs\u001b[0m\u001b[1;33m)\u001b[0m\u001b[1;33m:\u001b[0m\u001b[1;33m\u001b[0m\u001b[0m\n\u001b[0m\u001b[0;32m   1528\u001b[0m             \u001b[0mself\u001b[0m\u001b[1;33m.\u001b[0m\u001b[0madd_line\u001b[0m\u001b[1;33m(\u001b[0m\u001b[0mline\u001b[0m\u001b[1;33m)\u001b[0m\u001b[1;33m\u001b[0m\u001b[0m\n\u001b[0;32m   1529\u001b[0m             \u001b[0mlines\u001b[0m\u001b[1;33m.\u001b[0m\u001b[0mappend\u001b[0m\u001b[1;33m(\u001b[0m\u001b[0mline\u001b[0m\u001b[1;33m)\u001b[0m\u001b[1;33m\u001b[0m\u001b[0m\n",
      "\u001b[1;32mC:\\Users\\Student\\Anaconda2\\lib\\site-packages\\matplotlib\\axes\\_base.pyc\u001b[0m in \u001b[0;36m_grab_next_args\u001b[1;34m(self, *args, **kwargs)\u001b[0m\n\u001b[0;32m    404\u001b[0m                 \u001b[0mthis\u001b[0m \u001b[1;33m+=\u001b[0m \u001b[0margs\u001b[0m\u001b[1;33m[\u001b[0m\u001b[1;36m0\u001b[0m\u001b[1;33m]\u001b[0m\u001b[1;33m,\u001b[0m\u001b[1;33m\u001b[0m\u001b[0m\n\u001b[0;32m    405\u001b[0m                 \u001b[0margs\u001b[0m \u001b[1;33m=\u001b[0m \u001b[0margs\u001b[0m\u001b[1;33m[\u001b[0m\u001b[1;36m1\u001b[0m\u001b[1;33m:\u001b[0m\u001b[1;33m]\u001b[0m\u001b[1;33m\u001b[0m\u001b[0m\n\u001b[1;32m--> 406\u001b[1;33m             \u001b[1;32mfor\u001b[0m \u001b[0mseg\u001b[0m \u001b[1;32min\u001b[0m \u001b[0mself\u001b[0m\u001b[1;33m.\u001b[0m\u001b[0m_plot_args\u001b[0m\u001b[1;33m(\u001b[0m\u001b[0mthis\u001b[0m\u001b[1;33m,\u001b[0m \u001b[0mkwargs\u001b[0m\u001b[1;33m)\u001b[0m\u001b[1;33m:\u001b[0m\u001b[1;33m\u001b[0m\u001b[0m\n\u001b[0m\u001b[0;32m    407\u001b[0m                 \u001b[1;32myield\u001b[0m \u001b[0mseg\u001b[0m\u001b[1;33m\u001b[0m\u001b[0m\n\u001b[0;32m    408\u001b[0m \u001b[1;33m\u001b[0m\u001b[0m\n",
      "\u001b[1;32mC:\\Users\\Student\\Anaconda2\\lib\\site-packages\\matplotlib\\axes\\_base.pyc\u001b[0m in \u001b[0;36m_plot_args\u001b[1;34m(self, tup, kwargs)\u001b[0m\n\u001b[0;32m    381\u001b[0m             \u001b[0mx\u001b[0m\u001b[1;33m,\u001b[0m \u001b[0my\u001b[0m \u001b[1;33m=\u001b[0m \u001b[0mindex_of\u001b[0m\u001b[1;33m(\u001b[0m\u001b[0mtup\u001b[0m\u001b[1;33m[\u001b[0m\u001b[1;33m-\u001b[0m\u001b[1;36m1\u001b[0m\u001b[1;33m]\u001b[0m\u001b[1;33m)\u001b[0m\u001b[1;33m\u001b[0m\u001b[0m\n\u001b[0;32m    382\u001b[0m \u001b[1;33m\u001b[0m\u001b[0m\n\u001b[1;32m--> 383\u001b[1;33m         \u001b[0mx\u001b[0m\u001b[1;33m,\u001b[0m \u001b[0my\u001b[0m \u001b[1;33m=\u001b[0m \u001b[0mself\u001b[0m\u001b[1;33m.\u001b[0m\u001b[0m_xy_from_xy\u001b[0m\u001b[1;33m(\u001b[0m\u001b[0mx\u001b[0m\u001b[1;33m,\u001b[0m \u001b[0my\u001b[0m\u001b[1;33m)\u001b[0m\u001b[1;33m\u001b[0m\u001b[0m\n\u001b[0m\u001b[0;32m    384\u001b[0m \u001b[1;33m\u001b[0m\u001b[0m\n\u001b[0;32m    385\u001b[0m         \u001b[1;32mif\u001b[0m \u001b[0mself\u001b[0m\u001b[1;33m.\u001b[0m\u001b[0mcommand\u001b[0m \u001b[1;33m==\u001b[0m \u001b[1;34m'plot'\u001b[0m\u001b[1;33m:\u001b[0m\u001b[1;33m\u001b[0m\u001b[0m\n",
      "\u001b[1;32mC:\\Users\\Student\\Anaconda2\\lib\\site-packages\\matplotlib\\axes\\_base.pyc\u001b[0m in \u001b[0;36m_xy_from_xy\u001b[1;34m(self, x, y)\u001b[0m\n\u001b[0;32m    240\u001b[0m         \u001b[1;32mif\u001b[0m \u001b[0mx\u001b[0m\u001b[1;33m.\u001b[0m\u001b[0mshape\u001b[0m\u001b[1;33m[\u001b[0m\u001b[1;36m0\u001b[0m\u001b[1;33m]\u001b[0m \u001b[1;33m!=\u001b[0m \u001b[0my\u001b[0m\u001b[1;33m.\u001b[0m\u001b[0mshape\u001b[0m\u001b[1;33m[\u001b[0m\u001b[1;36m0\u001b[0m\u001b[1;33m]\u001b[0m\u001b[1;33m:\u001b[0m\u001b[1;33m\u001b[0m\u001b[0m\n\u001b[0;32m    241\u001b[0m             raise ValueError(\"x and y must have same first dimension, but \"\n\u001b[1;32m--> 242\u001b[1;33m                              \"have shapes {} and {}\".format(x.shape, y.shape))\n\u001b[0m\u001b[0;32m    243\u001b[0m         \u001b[1;32mif\u001b[0m \u001b[0mx\u001b[0m\u001b[1;33m.\u001b[0m\u001b[0mndim\u001b[0m \u001b[1;33m>\u001b[0m \u001b[1;36m2\u001b[0m \u001b[1;32mor\u001b[0m \u001b[0my\u001b[0m\u001b[1;33m.\u001b[0m\u001b[0mndim\u001b[0m \u001b[1;33m>\u001b[0m \u001b[1;36m2\u001b[0m\u001b[1;33m:\u001b[0m\u001b[1;33m\u001b[0m\u001b[0m\n\u001b[0;32m    244\u001b[0m             raise ValueError(\"x and y can be no greater than 2-D, but have \"\n",
      "\u001b[1;31mValueError\u001b[0m: x and y must have same first dimension, but have shapes (31L,) and (0L, 63L)"
     ]
    },
    {
     "data": {
      "image/png": "[encoded data removed]",
      "text/html": [
       "\n",
       "\n",
       "<style>\n",
       "\n",
       "</style>\n",
       "\n",
       "<div id=\"fig_el34201695230728402942481\"></div>\n",
       "<script>\n",
       "function mpld3_load_lib(url, callback){\n",
       "  var s = document.createElement('script');\n",
       "  s.src = url;\n",
       "  s.async = true;\n",
       "  s.onreadystatechange = s.onload = callback;\n",
       "  s.onerror = function(){console.warn(\"failed to load library \" + url);};\n",
       "  document.getElementsByTagName(\"head\")[0].appendChild(s);\n",
       "}\n",
       "\n",
       "if(typeof(mpld3) !== \"undefined\" && mpld3._mpld3IsLoaded){\n",
       "   // already loaded: just create the figure\n",
       "   !function(mpld3){\n",
       "       \n",
       "       mpld3.draw_figure(\"fig_el34201695230728402942481\", {\"axes\": [{\"xlim\": [0.8912509381337456, 11.220184543019636], \"yscale\": \"log\", \"axesbg\": \"#FFFFFF\", \"texts\": [], \"zoomable\": true, \"images\": [], \"xdomain\": [0.8912509381337456, 11.220184543019636], \"ylim\": [0.8912509381337456, 11.220184543019636], \"paths\": [], \"sharey\": [], \"sharex\": [], \"axesbgalpha\": null, \"axes\": [{\"scale\": \"log\", \"tickformat\": null, \"grid\": {\"gridOn\": false}, \"visible\": true, \"fontsize\": 10.0, \"position\": \"bottom\", \"nticks\": 6, \"tickvalues\": null}, {\"scale\": \"log\", \"tickformat\": null, \"grid\": {\"gridOn\": false}, \"visible\": true, \"fontsize\": 10.0, \"position\": \"left\", \"nticks\": 6, \"tickvalues\": null}], \"lines\": [], \"markers\": [], \"id\": \"el3420196530808\", \"ydomain\": [0.8912509381337456, 11.220184543019636], \"collections\": [], \"xscale\": \"log\", \"bbox\": [0.125, 0.125, 0.775, 0.755]}], \"height\": 355.9950556242274, \"width\": 576.0, \"plugins\": [{\"type\": \"reset\"}, {\"enabled\": false, \"button\": true, \"type\": \"zoom\"}, {\"enabled\": false, \"button\": true, \"type\": \"boxzoom\"}], \"data\": {}, \"id\": \"el3420169523072\"});\n",
       "   }(mpld3);\n",
       "}else if(typeof define === \"function\" && define.amd){\n",
       "   // require.js is available: use it to load d3/mpld3\n",
       "   require.config({paths: {d3: \"https://mpld3.github.io/js/d3.v3.min\"}});\n",
       "   require([\"d3\"], function(d3){\n",
       "      window.d3 = d3;\n",
       "      mpld3_load_lib(\"https://mpld3.github.io/js/mpld3.v0.3.js\", function(){\n",
       "         \n",
       "         mpld3.draw_figure(\"fig_el34201695230728402942481\", {\"axes\": [{\"xlim\": [0.8912509381337456, 11.220184543019636], \"yscale\": \"log\", \"axesbg\": \"#FFFFFF\", \"texts\": [], \"zoomable\": true, \"images\": [], \"xdomain\": [0.8912509381337456, 11.220184543019636], \"ylim\": [0.8912509381337456, 11.220184543019636], \"paths\": [], \"sharey\": [], \"sharex\": [], \"axesbgalpha\": null, \"axes\": [{\"scale\": \"log\", \"tickformat\": null, \"grid\": {\"gridOn\": false}, \"visible\": true, \"fontsize\": 10.0, \"position\": \"bottom\", \"nticks\": 6, \"tickvalues\": null}, {\"scale\": \"log\", \"tickformat\": null, \"grid\": {\"gridOn\": false}, \"visible\": true, \"fontsize\": 10.0, \"position\": \"left\", \"nticks\": 6, \"tickvalues\": null}], \"lines\": [], \"markers\": [], \"id\": \"el3420196530808\", \"ydomain\": [0.8912509381337456, 11.220184543019636], \"collections\": [], \"xscale\": \"log\", \"bbox\": [0.125, 0.125, 0.775, 0.755]}], \"height\": 355.9950556242274, \"width\": 576.0, \"plugins\": [{\"type\": \"reset\"}, {\"enabled\": false, \"button\": true, \"type\": \"zoom\"}, {\"enabled\": false, \"button\": true, \"type\": \"boxzoom\"}], \"data\": {}, \"id\": \"el3420169523072\"});\n",
       "      });\n",
       "    });\n",
       "}else{\n",
       "    // require.js not available: dynamically load d3 & mpld3\n",
       "    mpld3_load_lib(\"https://mpld3.github.io/js/d3.v3.min.js\", function(){\n",
       "         mpld3_load_lib(\"https://mpld3.github.io/js/mpld3.v0.3.js\", function(){\n",
       "                 \n",
       "                 mpld3.draw_figure(\"fig_el34201695230728402942481\", {\"axes\": [{\"xlim\": [0.8912509381337456, 11.220184543019636], \"yscale\": \"log\", \"axesbg\": \"#FFFFFF\", \"texts\": [], \"zoomable\": true, \"images\": [], \"xdomain\": [0.8912509381337456, 11.220184543019636], \"ylim\": [0.8912509381337456, 11.220184543019636], \"paths\": [], \"sharey\": [], \"sharex\": [], \"axesbgalpha\": null, \"axes\": [{\"scale\": \"log\", \"tickformat\": null, \"grid\": {\"gridOn\": false}, \"visible\": true, \"fontsize\": 10.0, \"position\": \"bottom\", \"nticks\": 6, \"tickvalues\": null}, {\"scale\": \"log\", \"tickformat\": null, \"grid\": {\"gridOn\": false}, \"visible\": true, \"fontsize\": 10.0, \"position\": \"left\", \"nticks\": 6, \"tickvalues\": null}], \"lines\": [], \"markers\": [], \"id\": \"el3420196530808\", \"ydomain\": [0.8912509381337456, 11.220184543019636], \"collections\": [], \"xscale\": \"log\", \"bbox\": [0.125, 0.125, 0.775, 0.755]}], \"height\": 355.9950556242274, \"width\": 576.0, \"plugins\": [{\"type\": \"reset\"}, {\"enabled\": false, \"button\": true, \"type\": \"zoom\"}, {\"enabled\": false, \"button\": true, \"type\": \"boxzoom\"}], \"data\": {}, \"id\": \"el3420169523072\"});\n",
       "            })\n",
       "         });\n",
       "}\n",
       "</script>"
      ],
      "text/plain": [
       "<Figure size 576x355.995 with 1 Axes>"
      ]
     },
     "metadata": {},
     "output_type": "display_data"
    }
   ],
   "source": [
    "#Plot the decay time versus the wave vector\n",
    "fig = plt.figure(figsize=(8,8/1.618)); ax = fig.gca(); \n",
    "#ax.loglog(q[3:-1], tau[2:-1], 'ro')\n",
    "ax.loglog(q[3:-30], ddm.newt(tau[2:-30],alph[2:-30]),'bo')\n",
    "#ax.loglog(q[3:-30], ddm.newt(tau2[2:-30],alph2[2:-30]),'rv')\n",
    "diffusion_coeff = 0.25\n",
    "ax.plot(q[3:-1], (1./diffusion_coeff) * 1./(q[3:-1]**2), '-k')\n",
    "adiffusion_coeff = 0.25\n",
    "ax.plot(q[3:-1], (1./adiffusion_coeff) * 1./(q[3:-1]**2.3), '--k')\n",
    "ax.set_xlabel(\"q\", fontdict=font_plt_ax)"
   ]
  },
  {
   "cell_type": "code",
   "execution_count": 39,
   "metadata": {},
   "outputs": [
    {
     "name": "stderr",
     "output_type": "stream",
     "text": [
      "C:\\Users\\Student\\Anaconda2\\lib\\site-packages\\ipykernel_launcher.py:3: RankWarning: Polyfit may be poorly conditioned\n",
      "  This is separate from the ipykernel package so we can avoid doing imports until\n"
     ]
    },
    {
     "data": {
      "text/plain": [
       "array([nan, nan])"
      ]
     },
     "execution_count": 39,
     "metadata": {},
     "output_type": "execute_result"
    }
   ],
   "source": [
    "logx = np.log(q[3:-30])\n",
    "logy = np.log(ntav)\n",
    "coeffs = np.polyfit(q[3:-30],ntav,deg=1)\n",
    "coeffs\n"
   ]
  },
  {
   "cell_type": "code",
   "execution_count": null,
   "metadata": {
    "collapsed": true
   },
   "outputs": [],
   "source": []
  },
  {
   "cell_type": "code",
   "execution_count": null,
   "metadata": {
    "collapsed": true
   },
   "outputs": [],
   "source": [
    "fig,ax = plt.subplots(figsize=(8,8/1.618))                        \n",
    "ax.loglog(q[3:-50],yfit(q[3:-50]))\n",
    "ax.loglog(q[3:-30], ntav, 'rv')"
   ]
  },
  {
   "cell_type": "code",
   "execution_count": 52,
   "metadata": {},
   "outputs": [
    {
     "data": {
      "text/plain": [
       "<Container object of 3 artists>"
      ]
     },
     "execution_count": 52,
     "metadata": {},
     "output_type": "execute_result"
    },
    {
     "data": {
      "image/png": "[encoded data removed]",
      "text/html": [
       "\n",
       "\n",
       "<style>\n",
       "\n",
       "</style>\n",
       "\n",
       "<div id=\"fig_el342324214676088754425206\"></div>\n",
       "<script>\n",
       "function mpld3_load_lib(url, callback){\n",
       "  var s = document.createElement('script');\n",
       "  s.src = url;\n",
       "  s.async = true;\n",
       "  s.onreadystatechange = s.onload = callback;\n",
       "  s.onerror = function(){console.warn(\"failed to load library \" + url);};\n",
       "  document.getElementsByTagName(\"head\")[0].appendChild(s);\n",
       "}\n",
       "\n",
       "if(typeof(mpld3) !== \"undefined\" && mpld3._mpld3IsLoaded){\n",
       "   // already loaded: just create the figure\n",
       "   !function(mpld3){\n",
       "       \n",
       "       mpld3.draw_figure(\"fig_el342324214676088754425206\", {\"axes\": [{\"xlim\": [-0.5, 2.0], \"yscale\": \"linear\", \"axesbg\": \"#FFFFFF\", \"texts\": [], \"zoomable\": true, \"images\": [], \"xdomain\": [-0.5, 2.0], \"ylim\": [-6.0, 8.0], \"paths\": [], \"sharey\": [], \"sharex\": [], \"axesbgalpha\": null, \"axes\": [{\"scale\": \"linear\", \"tickformat\": null, \"grid\": {\"gridOn\": false}, \"visible\": true, \"fontsize\": 10.0, \"position\": \"bottom\", \"nticks\": 6, \"tickvalues\": null}, {\"scale\": \"linear\", \"tickformat\": null, \"grid\": {\"gridOn\": false}, \"visible\": true, \"fontsize\": 10.0, \"position\": \"left\", \"nticks\": 8, \"tickvalues\": null}], \"lines\": [], \"markers\": [{\"edgecolor\": \"#000000\", \"facecolor\": \"#000000\", \"edgewidth\": 0.5, \"yindex\": 1, \"coordinates\": \"data\", \"zorder\": 2, \"markerpath\": [[[3.0, 1.8369701987210297e-16], [-3.0, -1.8369701987210297e-16]], [\"M\", \"L\"]], \"alpha\": 1, \"xindex\": 0, \"data\": \"data01\", \"id\": \"el342324218861464pts\"}, {\"edgecolor\": \"#000000\", \"facecolor\": \"#000000\", \"edgewidth\": 0.5, \"yindex\": 2, \"coordinates\": \"data\", \"zorder\": 2, \"markerpath\": [[[3.0, 1.8369701987210297e-16], [-3.0, -1.8369701987210297e-16]], [\"M\", \"L\"]], \"alpha\": 1, \"xindex\": 0, \"data\": \"data01\", \"id\": \"el342324218927288pts\"}, {\"edgecolor\": \"#000000\", \"facecolor\": \"#FF0000\", \"edgewidth\": 0.5, \"yindex\": 3, \"coordinates\": \"data\", \"zorder\": 2, \"markerpath\": [[[-3.6739403974420594e-16, 3.0], [3.0000000000000004, -2.9999999999999996], [-2.9999999999999996, -3.0000000000000004]], [\"M\", \"L\", \"L\", \"Z\"]], \"alpha\": 1, \"xindex\": 0, \"data\": \"data01\", \"id\": \"el342324218928856pts\"}], \"id\": \"el342324204008864\", \"ydomain\": [-6.0, 8.0], \"collections\": [{\"paths\": [[[[-0.2495326449196674, 2.2167521512472073], [-0.2495326449196674, 2.0665664130611257]], [\"M\", \"L\"]], [[[0.03814942753211368, 1.7836986928923495], [0.03814942753211368, 1.2873072414766016]], [\"M\", \"L\"]], [[[0.26129297884632335, 2.366043001680284], [0.26129297884632335, -0.3084496626854223]], [\"M\", \"L\"]], [[[0.4436145356402779, 1.922650943867679], [0.4436145356402779, -0.7289818585234901]], [\"M\", \"L\"]], [[[0.5977652154675364, 2.9381296760638858], [0.5977652154675364, -2.4795258942222844]], [\"M\", \"L\"]], [[[0.731296608092059, 2.310106776524477], [0.731296608092059, -2.4514445072647373]], [\"M\", \"L\"]], [[[0.8490796437484424, 2.3475784591364053], [0.8490796437484424, -2.9865571975477097]], [\"M\", \"L\"]], [[[0.9544401594062687, 2.480852468361947], [0.9544401594062687, -3.696073052059883]], [\"M\", \"L\"]], [[[1.0497503392105936, 2.282159653700507], [1.0497503392105936, -3.9259889990390446]], [\"M\", \"L\"]], [[[1.1367617162002233, 1.9841664883944068], [1.1367617162002233, -4.0199996925827515]], [\"M\", \"L\"]], [[[1.2168044238737599, 1.8439740569956056], [1.2168044238737599, -4.212225639988043]], [\"M\", \"L\"]], [[[1.2909123960274815, 1.951481965914974], [1.2909123960274815, -4.684043747863466]], [\"M\", \"L\"]], [[[1.359905267514433, 1.8233432141209307], [1.359905267514433, -4.8316041729646315]], [\"M\", \"L\"]], [[[1.4244437886520043, 1.3255838818245058], [1.4244437886520043, -4.427533374419884]], [\"M\", \"L\"]], [[[1.485068410468439, 0.3650667062851767], [1.485068410468439, -3.3255699695167684]], [\"M\", \"L\"]], [[[1.5422268243083876, 0.2765388322719935], [1.5422268243083876, -3.2027689922448292]], [\"M\", \"L\"]], [[[1.5962940455786634, -0.19726840187239558], [1.5962940455786634, -1.8661743225630358]], [\"M\", \"L\"]], [[[1.647587339966214, 0.4947446834331368], [1.647587339966214, -3.314255602437213]], [\"M\", \"L\"]], [[[1.696377504135646, -0.29890667067380094], [1.696377504135646, -0.9744961872048313]], [\"M\", \"L\"]], [[[1.7428975197705388, -0.8830430214001779], [1.7428975197705388, 6.223551160656097]], [\"M\", \"L\"]], [[[1.7873492823413726, 0.6478796185686795], [1.7873492823413726, -3.512905257836885]], [\"M\", \"L\"]]], \"edgecolors\": [\"#000000\"], \"edgewidths\": [1.0], \"offsets\": \"data02\", \"yindex\": 1, \"id\": \"el342324218859224\", \"pathtransforms\": [], \"pathcoordinates\": \"data\", \"offsetcoordinates\": \"display\", \"zorder\": 2, \"xindex\": 0, \"alphas\": [null], \"facecolors\": []}], \"xscale\": \"linear\", \"bbox\": [0.125, 0.125, 0.775, 0.775]}], \"height\": 320.0, \"width\": 480.0, \"plugins\": [{\"type\": \"reset\"}, {\"enabled\": false, \"button\": true, \"type\": \"zoom\"}, {\"enabled\": false, \"button\": true, \"type\": \"boxzoom\"}], \"data\": {\"data02\": [[0.0, 0.0]], \"data01\": [[-0.2495326449196674, 2.2167521512472073, 2.0665664130611257, 2.1416592821541665], [0.03814942753211368, 1.7836986928923495, 1.2873072414766016, 1.5355029671844755], [0.26129297884632335, 2.366043001680284, -0.3084496626854223, 1.0287966694974309], [0.4436145356402779, 1.922650943867679, -0.7289818585234901, 0.5968345426720946], [0.5977652154675364, 2.9381296760638858, -2.4795258942222844, 0.22930189092080072], [0.731296608092059, 2.310106776524477, -2.4514445072647373, -0.0706688653701301], [0.8490796437484424, 2.3475784591364053, -2.9865571975477097, -0.31948936920565213], [0.9544401594062687, 2.480852468361947, -3.696073052059883, -0.6076102918489679], [1.0497503392105936, 2.282159653700507, -3.9259889990390446, -0.8219146726692685], [1.1367617162002233, 1.9841664883944068, -4.0199996925827515, -1.0179166020941723], [1.2168044238737599, 1.8439740569956056, -4.212225639988043, -1.1841257914962189], [1.2909123960274815, 1.951481965914974, -4.684043747863466, -1.366280890974246], [1.359905267514433, 1.8233432141209307, -4.8316041729646315, -1.5041304794218502], [1.4244437886520043, 1.3255838818245058, -4.427533374419884, -1.550974746297689], [1.485068410468439, 0.3650667062851767, -3.3255699695167684, -1.4802516316157959], [1.5422268243083876, 0.2765388322719935, -3.2027689922448292, -1.4631150799864179], [1.5962940455786634, -0.19726840187239558, -1.8661743225630358, -1.0317213622177157], [1.647587339966214, 0.4947446834331368, -3.314255602437213, -1.4097554595020383], [1.696377504135646, -0.29890667067380094, -0.9744961872048313, -0.6367014289393161], [1.7428975197705388, -0.8830430214001779, 6.223551160656097, 2.6702540696279593], [1.7873492823413726, 0.6478796185686795, -3.512905257836885, -1.4325128196341028]]}, \"id\": \"el342324214676088\"});\n",
       "   }(mpld3);\n",
       "}else if(typeof define === \"function\" && define.amd){\n",
       "   // require.js is available: use it to load d3/mpld3\n",
       "   require.config({paths: {d3: \"https://mpld3.github.io/js/d3.v3.min\"}});\n",
       "   require([\"d3\"], function(d3){\n",
       "      window.d3 = d3;\n",
       "      mpld3_load_lib(\"https://mpld3.github.io/js/mpld3.v0.3.js\", function(){\n",
       "         \n",
       "         mpld3.draw_figure(\"fig_el342324214676088754425206\", {\"axes\": [{\"xlim\": [-0.5, 2.0], \"yscale\": \"linear\", \"axesbg\": \"#FFFFFF\", \"texts\": [], \"zoomable\": true, \"images\": [], \"xdomain\": [-0.5, 2.0], \"ylim\": [-6.0, 8.0], \"paths\": [], \"sharey\": [], \"sharex\": [], \"axesbgalpha\": null, \"axes\": [{\"scale\": \"linear\", \"tickformat\": null, \"grid\": {\"gridOn\": false}, \"visible\": true, \"fontsize\": 10.0, \"position\": \"bottom\", \"nticks\": 6, \"tickvalues\": null}, {\"scale\": \"linear\", \"tickformat\": null, \"grid\": {\"gridOn\": false}, \"visible\": true, \"fontsize\": 10.0, \"position\": \"left\", \"nticks\": 8, \"tickvalues\": null}], \"lines\": [], \"markers\": [{\"edgecolor\": \"#000000\", \"facecolor\": \"#000000\", \"edgewidth\": 0.5, \"yindex\": 1, \"coordinates\": \"data\", \"zorder\": 2, \"markerpath\": [[[3.0, 1.8369701987210297e-16], [-3.0, -1.8369701987210297e-16]], [\"M\", \"L\"]], \"alpha\": 1, \"xindex\": 0, \"data\": \"data01\", \"id\": \"el342324218861464pts\"}, {\"edgecolor\": \"#000000\", \"facecolor\": \"#000000\", \"edgewidth\": 0.5, \"yindex\": 2, \"coordinates\": \"data\", \"zorder\": 2, \"markerpath\": [[[3.0, 1.8369701987210297e-16], [-3.0, -1.8369701987210297e-16]], [\"M\", \"L\"]], \"alpha\": 1, \"xindex\": 0, \"data\": \"data01\", \"id\": \"el342324218927288pts\"}, {\"edgecolor\": \"#000000\", \"facecolor\": \"#FF0000\", \"edgewidth\": 0.5, \"yindex\": 3, \"coordinates\": \"data\", \"zorder\": 2, \"markerpath\": [[[-3.6739403974420594e-16, 3.0], [3.0000000000000004, -2.9999999999999996], [-2.9999999999999996, -3.0000000000000004]], [\"M\", \"L\", \"L\", \"Z\"]], \"alpha\": 1, \"xindex\": 0, \"data\": \"data01\", \"id\": \"el342324218928856pts\"}], \"id\": \"el342324204008864\", \"ydomain\": [-6.0, 8.0], \"collections\": [{\"paths\": [[[[-0.2495326449196674, 2.2167521512472073], [-0.2495326449196674, 2.0665664130611257]], [\"M\", \"L\"]], [[[0.03814942753211368, 1.7836986928923495], [0.03814942753211368, 1.2873072414766016]], [\"M\", \"L\"]], [[[0.26129297884632335, 2.366043001680284], [0.26129297884632335, -0.3084496626854223]], [\"M\", \"L\"]], [[[0.4436145356402779, 1.922650943867679], [0.4436145356402779, -0.7289818585234901]], [\"M\", \"L\"]], [[[0.5977652154675364, 2.9381296760638858], [0.5977652154675364, -2.4795258942222844]], [\"M\", \"L\"]], [[[0.731296608092059, 2.310106776524477], [0.731296608092059, -2.4514445072647373]], [\"M\", \"L\"]], [[[0.8490796437484424, 2.3475784591364053], [0.8490796437484424, -2.9865571975477097]], [\"M\", \"L\"]], [[[0.9544401594062687, 2.480852468361947], [0.9544401594062687, -3.696073052059883]], [\"M\", \"L\"]], [[[1.0497503392105936, 2.282159653700507], [1.0497503392105936, -3.9259889990390446]], [\"M\", \"L\"]], [[[1.1367617162002233, 1.9841664883944068], [1.1367617162002233, -4.0199996925827515]], [\"M\", \"L\"]], [[[1.2168044238737599, 1.8439740569956056], [1.2168044238737599, -4.212225639988043]], [\"M\", \"L\"]], [[[1.2909123960274815, 1.951481965914974], [1.2909123960274815, -4.684043747863466]], [\"M\", \"L\"]], [[[1.359905267514433, 1.8233432141209307], [1.359905267514433, -4.8316041729646315]], [\"M\", \"L\"]], [[[1.4244437886520043, 1.3255838818245058], [1.4244437886520043, -4.427533374419884]], [\"M\", \"L\"]], [[[1.485068410468439, 0.3650667062851767], [1.485068410468439, -3.3255699695167684]], [\"M\", \"L\"]], [[[1.5422268243083876, 0.2765388322719935], [1.5422268243083876, -3.2027689922448292]], [\"M\", \"L\"]], [[[1.5962940455786634, -0.19726840187239558], [1.5962940455786634, -1.8661743225630358]], [\"M\", \"L\"]], [[[1.647587339966214, 0.4947446834331368], [1.647587339966214, -3.314255602437213]], [\"M\", \"L\"]], [[[1.696377504135646, -0.29890667067380094], [1.696377504135646, -0.9744961872048313]], [\"M\", \"L\"]], [[[1.7428975197705388, -0.8830430214001779], [1.7428975197705388, 6.223551160656097]], [\"M\", \"L\"]], [[[1.7873492823413726, 0.6478796185686795], [1.7873492823413726, -3.512905257836885]], [\"M\", \"L\"]]], \"edgecolors\": [\"#000000\"], \"edgewidths\": [1.0], \"offsets\": \"data02\", \"yindex\": 1, \"id\": \"el342324218859224\", \"pathtransforms\": [], \"pathcoordinates\": \"data\", \"offsetcoordinates\": \"display\", \"zorder\": 2, \"xindex\": 0, \"alphas\": [null], \"facecolors\": []}], \"xscale\": \"linear\", \"bbox\": [0.125, 0.125, 0.775, 0.775]}], \"height\": 320.0, \"width\": 480.0, \"plugins\": [{\"type\": \"reset\"}, {\"enabled\": false, \"button\": true, \"type\": \"zoom\"}, {\"enabled\": false, \"button\": true, \"type\": \"boxzoom\"}], \"data\": {\"data02\": [[0.0, 0.0]], \"data01\": [[-0.2495326449196674, 2.2167521512472073, 2.0665664130611257, 2.1416592821541665], [0.03814942753211368, 1.7836986928923495, 1.2873072414766016, 1.5355029671844755], [0.26129297884632335, 2.366043001680284, -0.3084496626854223, 1.0287966694974309], [0.4436145356402779, 1.922650943867679, -0.7289818585234901, 0.5968345426720946], [0.5977652154675364, 2.9381296760638858, -2.4795258942222844, 0.22930189092080072], [0.731296608092059, 2.310106776524477, -2.4514445072647373, -0.0706688653701301], [0.8490796437484424, 2.3475784591364053, -2.9865571975477097, -0.31948936920565213], [0.9544401594062687, 2.480852468361947, -3.696073052059883, -0.6076102918489679], [1.0497503392105936, 2.282159653700507, -3.9259889990390446, -0.8219146726692685], [1.1367617162002233, 1.9841664883944068, -4.0199996925827515, -1.0179166020941723], [1.2168044238737599, 1.8439740569956056, -4.212225639988043, -1.1841257914962189], [1.2909123960274815, 1.951481965914974, -4.684043747863466, -1.366280890974246], [1.359905267514433, 1.8233432141209307, -4.8316041729646315, -1.5041304794218502], [1.4244437886520043, 1.3255838818245058, -4.427533374419884, -1.550974746297689], [1.485068410468439, 0.3650667062851767, -3.3255699695167684, -1.4802516316157959], [1.5422268243083876, 0.2765388322719935, -3.2027689922448292, -1.4631150799864179], [1.5962940455786634, -0.19726840187239558, -1.8661743225630358, -1.0317213622177157], [1.647587339966214, 0.4947446834331368, -3.314255602437213, -1.4097554595020383], [1.696377504135646, -0.29890667067380094, -0.9744961872048313, -0.6367014289393161], [1.7428975197705388, -0.8830430214001779, 6.223551160656097, 2.6702540696279593], [1.7873492823413726, 0.6478796185686795, -3.512905257836885, -1.4325128196341028]]}, \"id\": \"el342324214676088\"});\n",
       "      });\n",
       "    });\n",
       "}else{\n",
       "    // require.js not available: dynamically load d3 & mpld3\n",
       "    mpld3_load_lib(\"https://mpld3.github.io/js/d3.v3.min.js\", function(){\n",
       "         mpld3_load_lib(\"https://mpld3.github.io/js/mpld3.v0.3.js\", function(){\n",
       "                 \n",
       "                 mpld3.draw_figure(\"fig_el342324214676088754425206\", {\"axes\": [{\"xlim\": [-0.5, 2.0], \"yscale\": \"linear\", \"axesbg\": \"#FFFFFF\", \"texts\": [], \"zoomable\": true, \"images\": [], \"xdomain\": [-0.5, 2.0], \"ylim\": [-6.0, 8.0], \"paths\": [], \"sharey\": [], \"sharex\": [], \"axesbgalpha\": null, \"axes\": [{\"scale\": \"linear\", \"tickformat\": null, \"grid\": {\"gridOn\": false}, \"visible\": true, \"fontsize\": 10.0, \"position\": \"bottom\", \"nticks\": 6, \"tickvalues\": null}, {\"scale\": \"linear\", \"tickformat\": null, \"grid\": {\"gridOn\": false}, \"visible\": true, \"fontsize\": 10.0, \"position\": \"left\", \"nticks\": 8, \"tickvalues\": null}], \"lines\": [], \"markers\": [{\"edgecolor\": \"#000000\", \"facecolor\": \"#000000\", \"edgewidth\": 0.5, \"yindex\": 1, \"coordinates\": \"data\", \"zorder\": 2, \"markerpath\": [[[3.0, 1.8369701987210297e-16], [-3.0, -1.8369701987210297e-16]], [\"M\", \"L\"]], \"alpha\": 1, \"xindex\": 0, \"data\": \"data01\", \"id\": \"el342324218861464pts\"}, {\"edgecolor\": \"#000000\", \"facecolor\": \"#000000\", \"edgewidth\": 0.5, \"yindex\": 2, \"coordinates\": \"data\", \"zorder\": 2, \"markerpath\": [[[3.0, 1.8369701987210297e-16], [-3.0, -1.8369701987210297e-16]], [\"M\", \"L\"]], \"alpha\": 1, \"xindex\": 0, \"data\": \"data01\", \"id\": \"el342324218927288pts\"}, {\"edgecolor\": \"#000000\", \"facecolor\": \"#FF0000\", \"edgewidth\": 0.5, \"yindex\": 3, \"coordinates\": \"data\", \"zorder\": 2, \"markerpath\": [[[-3.6739403974420594e-16, 3.0], [3.0000000000000004, -2.9999999999999996], [-2.9999999999999996, -3.0000000000000004]], [\"M\", \"L\", \"L\", \"Z\"]], \"alpha\": 1, \"xindex\": 0, \"data\": \"data01\", \"id\": \"el342324218928856pts\"}], \"id\": \"el342324204008864\", \"ydomain\": [-6.0, 8.0], \"collections\": [{\"paths\": [[[[-0.2495326449196674, 2.2167521512472073], [-0.2495326449196674, 2.0665664130611257]], [\"M\", \"L\"]], [[[0.03814942753211368, 1.7836986928923495], [0.03814942753211368, 1.2873072414766016]], [\"M\", \"L\"]], [[[0.26129297884632335, 2.366043001680284], [0.26129297884632335, -0.3084496626854223]], [\"M\", \"L\"]], [[[0.4436145356402779, 1.922650943867679], [0.4436145356402779, -0.7289818585234901]], [\"M\", \"L\"]], [[[0.5977652154675364, 2.9381296760638858], [0.5977652154675364, -2.4795258942222844]], [\"M\", \"L\"]], [[[0.731296608092059, 2.310106776524477], [0.731296608092059, -2.4514445072647373]], [\"M\", \"L\"]], [[[0.8490796437484424, 2.3475784591364053], [0.8490796437484424, -2.9865571975477097]], [\"M\", \"L\"]], [[[0.9544401594062687, 2.480852468361947], [0.9544401594062687, -3.696073052059883]], [\"M\", \"L\"]], [[[1.0497503392105936, 2.282159653700507], [1.0497503392105936, -3.9259889990390446]], [\"M\", \"L\"]], [[[1.1367617162002233, 1.9841664883944068], [1.1367617162002233, -4.0199996925827515]], [\"M\", \"L\"]], [[[1.2168044238737599, 1.8439740569956056], [1.2168044238737599, -4.212225639988043]], [\"M\", \"L\"]], [[[1.2909123960274815, 1.951481965914974], [1.2909123960274815, -4.684043747863466]], [\"M\", \"L\"]], [[[1.359905267514433, 1.8233432141209307], [1.359905267514433, -4.8316041729646315]], [\"M\", \"L\"]], [[[1.4244437886520043, 1.3255838818245058], [1.4244437886520043, -4.427533374419884]], [\"M\", \"L\"]], [[[1.485068410468439, 0.3650667062851767], [1.485068410468439, -3.3255699695167684]], [\"M\", \"L\"]], [[[1.5422268243083876, 0.2765388322719935], [1.5422268243083876, -3.2027689922448292]], [\"M\", \"L\"]], [[[1.5962940455786634, -0.19726840187239558], [1.5962940455786634, -1.8661743225630358]], [\"M\", \"L\"]], [[[1.647587339966214, 0.4947446834331368], [1.647587339966214, -3.314255602437213]], [\"M\", \"L\"]], [[[1.696377504135646, -0.29890667067380094], [1.696377504135646, -0.9744961872048313]], [\"M\", \"L\"]], [[[1.7428975197705388, -0.8830430214001779], [1.7428975197705388, 6.223551160656097]], [\"M\", \"L\"]], [[[1.7873492823413726, 0.6478796185686795], [1.7873492823413726, -3.512905257836885]], [\"M\", \"L\"]]], \"edgecolors\": [\"#000000\"], \"edgewidths\": [1.0], \"offsets\": \"data02\", \"yindex\": 1, \"id\": \"el342324218859224\", \"pathtransforms\": [], \"pathcoordinates\": \"data\", \"offsetcoordinates\": \"display\", \"zorder\": 2, \"xindex\": 0, \"alphas\": [null], \"facecolors\": []}], \"xscale\": \"linear\", \"bbox\": [0.125, 0.125, 0.775, 0.775]}], \"height\": 320.0, \"width\": 480.0, \"plugins\": [{\"type\": \"reset\"}, {\"enabled\": false, \"button\": true, \"type\": \"zoom\"}, {\"enabled\": false, \"button\": true, \"type\": \"boxzoom\"}], \"data\": {\"data02\": [[0.0, 0.0]], \"data01\": [[-0.2495326449196674, 2.2167521512472073, 2.0665664130611257, 2.1416592821541665], [0.03814942753211368, 1.7836986928923495, 1.2873072414766016, 1.5355029671844755], [0.26129297884632335, 2.366043001680284, -0.3084496626854223, 1.0287966694974309], [0.4436145356402779, 1.922650943867679, -0.7289818585234901, 0.5968345426720946], [0.5977652154675364, 2.9381296760638858, -2.4795258942222844, 0.22930189092080072], [0.731296608092059, 2.310106776524477, -2.4514445072647373, -0.0706688653701301], [0.8490796437484424, 2.3475784591364053, -2.9865571975477097, -0.31948936920565213], [0.9544401594062687, 2.480852468361947, -3.696073052059883, -0.6076102918489679], [1.0497503392105936, 2.282159653700507, -3.9259889990390446, -0.8219146726692685], [1.1367617162002233, 1.9841664883944068, -4.0199996925827515, -1.0179166020941723], [1.2168044238737599, 1.8439740569956056, -4.212225639988043, -1.1841257914962189], [1.2909123960274815, 1.951481965914974, -4.684043747863466, -1.366280890974246], [1.359905267514433, 1.8233432141209307, -4.8316041729646315, -1.5041304794218502], [1.4244437886520043, 1.3255838818245058, -4.427533374419884, -1.550974746297689], [1.485068410468439, 0.3650667062851767, -3.3255699695167684, -1.4802516316157959], [1.5422268243083876, 0.2765388322719935, -3.2027689922448292, -1.4631150799864179], [1.5962940455786634, -0.19726840187239558, -1.8661743225630358, -1.0317213622177157], [1.647587339966214, 0.4947446834331368, -3.314255602437213, -1.4097554595020383], [1.696377504135646, -0.29890667067380094, -0.9744961872048313, -0.6367014289393161], [1.7428975197705388, -0.8830430214001779, 6.223551160656097, 2.6702540696279593], [1.7873492823413726, 0.6478796185686795, -3.512905257836885, -1.4325128196341028]]}, \"id\": \"el342324214676088\"});\n",
       "            })\n",
       "         });\n",
       "}\n",
       "</script>"
      ],
      "text/plain": [
       "<matplotlib.figure.Figure at 0xccbb278>"
      ]
     },
     "metadata": {},
     "output_type": "display_data"
    }
   ],
   "source": [
    "%matplotlib inline\n",
    "mpld3.enable_notebook()\n",
    "\n",
    "#fig = plt.figure(figsize=(8,8/1.618)); ax = fig.gca(); \n",
    "plt.errorbar(np.log(q[3:-40]), np.log(ntav[:-10]), yerr=np.log(ntstd[:-10]), xerr=None, fmt ='rv', ecolor = 'k')"
   ]
  },
  {
   "cell_type": "code",
   "execution_count": 27,
   "metadata": {},
   "outputs": [],
   "source": []
  },
  {
   "cell_type": "code",
   "execution_count": null,
   "metadata": {
    "collapsed": true
   },
   "outputs": [],
   "source": [
    "print AvgROIs\n",
    "avgDiffCoeff = np.nanmean(AvgROIs)\n",
    "stdev = np.nanstd(AvgROIs)\n",
    "print \"Averaged diffusion coefficient is: %.3f \" % (avgDiffCoeff)\n",
    "print \"Standard deviation is: %.3f \" % (stdev)\n",
    "allResults['DiffCoeffROIs'] = AvgROIs\n",
    "allResults['avgDiffCoeff'] = avgDiffCoeff\n",
    "allResults['stdev'] = stdev"
   ]
  }
 ],
 "metadata": {
  "kernelspec": {
   "display_name": "Python 2",
   "language": "python",
   "name": "python2"
  },
  "language_info": {
   "codemirror_mode": {
    "name": "ipython",
    "version": 2
   },
   "file_extension": ".py",
   "mimetype": "text/x-python",
   "name": "python",
   "nbconvert_exporter": "python",
   "pygments_lexer": "ipython2",
   "version": "2.7.15"
  }
 },
 "nbformat": 4,
 "nbformat_minor": 1
}
